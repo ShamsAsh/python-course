{
 "cells": [
  {
   "cell_type": "markdown",
   "id": "8d2b3cd0",
   "metadata": {},
   "source": [
    "# Review\n",
    "\n",
    "From the previous chapters, you may recall that python has its own built in functions. "
   ]
  },
  {
   "cell_type": "code",
   "execution_count": 503,
   "id": "d35f1827",
   "metadata": {},
   "outputs": [
    {
     "name": "stdout",
     "output_type": "stream",
     "text": [
      "Hello World!\n"
     ]
    }
   ],
   "source": [
    "# The following example displays \"Hello World!\" onto the screen with the print() function.\n",
    "\n",
    "print(\"Hello World!\")"
   ]
  },
  {
   "cell_type": "code",
   "execution_count": 504,
   "id": "564aa7b3",
   "metadata": {},
   "outputs": [
    {
     "name": "stdout",
     "output_type": "stream",
     "text": [
      "Something new!\n"
     ]
    }
   ],
   "source": [
    "# The following example takes in a user input and displays it back to the user. \n",
    "\n",
    "user_input = input(\"Enter something to display: \") # The input() function takes in a user input and stores it in the variable user_input.\n",
    "print(user_input) # The print() function displays the user input back to the user."
   ]
  },
  {
   "cell_type": "markdown",
   "id": "975cbe1d",
   "metadata": {},
   "source": [
    "### Guess the Number & Rock, Paper, Scissors"
   ]
  },
  {
   "cell_type": "code",
   "execution_count": 505,
   "id": "12ea3722",
   "metadata": {},
   "outputs": [
    {
     "name": "stdout",
     "output_type": "stream",
     "text": [
      "I am thinking of a number between 1 and 20.\n",
      "Take a guess.\n",
      "Drink more coffee please, your guess is too low.\n",
      "Take a guess.\n",
      "You had too much coffee, your guess is too high.\n",
      "Take a guess.\n",
      "You had too much coffee, your guess is too high.\n",
      "Take a guess.\n",
      "Good job! You guessed my number in 4 guesses!\n"
     ]
    }
   ],
   "source": [
    "# This is a guess the number game.\n",
    "import random\n",
    "secretNumber = random.randint(1, 20)\n",
    "print('I am thinking of a number between 1 and 20.')\n",
    "\n",
    "# Ask the player to guess 6 times.\n",
    "for guessesTaken in range(1, 7):\n",
    "    print('Take a guess.')\n",
    "    guess = int(input())\n",
    "\n",
    "    if guess < secretNumber:\n",
    "        print('Drink more coffee please, your guess is too low.')\n",
    "    elif guess > secretNumber:\n",
    "        print('You had too much coffee, your guess is too high.')\n",
    "    else:\n",
    "        break    # This condition is the correct guess!\n",
    "\n",
    "if guess == secretNumber:\n",
    "    print('Good job! You guessed my number in ' + str(guessesTaken) + ' guesses!')\n",
    "else:\n",
    "    print('Nope. The number I was thinking of was ' + str(secretNumber))"
   ]
  },
  {
   "cell_type": "code",
   "execution_count": 506,
   "id": "09be686c",
   "metadata": {},
   "outputs": [
    {
     "name": "stdout",
     "output_type": "stream",
     "text": [
      "ROCK, PAPER, SCISSORS\n",
      "0 Wins, 0 Losses, 0 Ties\n",
      "Enter your move: (r)ock (p)aper (s)cissors or (q)uit\n",
      "You chose ROCK versus...\n",
      "Computer chose ROCK\n",
      "It is a tie!\n",
      "0 Wins, 0 Losses, 1 Ties\n",
      "Enter your move: (r)ock (p)aper (s)cissors or (q)uit\n"
     ]
    },
    {
     "ename": "SystemExit",
     "evalue": "",
     "output_type": "error",
     "traceback": [
      "An exception has occurred, use %tb to see the full traceback.\n",
      "\u001b[1;31mSystemExit\u001b[0m\n"
     ]
    },
    {
     "name": "stderr",
     "output_type": "stream",
     "text": [
      "C:\\Users\\FZZN5B\\AppData\\Roaming\\Python\\Python310\\site-packages\\IPython\\core\\interactiveshell.py:3513: UserWarning: To exit: use 'exit', 'quit', or Ctrl-D.\n",
      "  warn(\"To exit: use 'exit', 'quit', or Ctrl-D.\", stacklevel=1)\n"
     ]
    }
   ],
   "source": [
    "import random, sys\n",
    "\n",
    "print('ROCK, PAPER, SCISSORS')\n",
    "\n",
    "# These variables keep track of the number of wins, losses, and ties.\n",
    "wins = 0\n",
    "losses = 0\n",
    "ties = 0\n",
    "\n",
    "while True: # The main game loop.\n",
    "    print('%s Wins, %s Losses, %s Ties' % (wins, losses, ties))\n",
    "    while True: # The player input loop.\n",
    "        print('Enter your move: (r)ock (p)aper (s)cissors or (q)uit')\n",
    "        playerMove = input(  )\n",
    "        if playerMove == 'q':\n",
    "            sys.exit() # Quit the program. This raises an exception in the notebook.\n",
    "        if playerMove == 'r' or playerMove == 'p' or playerMove == 's':\n",
    "            break # Break out of the player input loop.\n",
    "        print('Type one of r, p, s, or q.')\n",
    "\n",
    "    # Display what the player chose:\n",
    "    if playerMove == 'r':\n",
    "        print('You chose ROCK versus...')\n",
    "    elif playerMove == 'p':\n",
    "        print('You chose PAPER versus...')\n",
    "    elif playerMove == 's':\n",
    "        print('You chose SCISSORS versus...')\n",
    "\n",
    "    # Display what the computer chose:\n",
    "    randomNumber = random.randint(1, 3)\n",
    "    if randomNumber == 1:\n",
    "        computerMove = 'r'\n",
    "        print('Computer chose ROCK')\n",
    "    elif randomNumber == 2:\n",
    "        computerMove = 'p'\n",
    "        print('Computer chose PAPER')\n",
    "    elif randomNumber == 3:\n",
    "        computerMove = 's'\n",
    "        print('Computer chose SCISSORS')\n",
    "\n",
    "    # Display and record the win/loss/tie:\n",
    "    if playerMove == computerMove:\n",
    "        print('It is a tie!')\n",
    "        ties = ties + 1\n",
    "    elif playerMove == 'r' and computerMove == 's':\n",
    "        print('You win!')\n",
    "        wins = wins + 1\n",
    "    elif playerMove == 'p' and computerMove == 'r':\n",
    "        print('You win!')\n",
    "        wins = wins + 1\n",
    "    elif playerMove == 's' and computerMove == 'p':\n",
    "        print('You win!')\n",
    "        wins = wins + 1\n",
    "    elif playerMove == 'r' and computerMove == 'p':\n",
    "        print('You lose!')\n",
    "        losses = losses + 1\n",
    "    elif playerMove == 'p' and computerMove == 's':\n",
    "        print('You lose!')\n",
    "        losses = losses + 1\n",
    "    elif playerMove == 's' and computerMove == 'r':\n",
    "        print('You lose!')\n",
    "        losses = losses + 1"
   ]
  },
  {
   "cell_type": "markdown",
   "id": "9ded5acd-0250-4ad2-a947-b3185632543b",
   "metadata": {},
   "source": [
    "# Chapter 3: Functions\n",
    "Python provides built-in functions, but you can also write your own functions. \n",
    "### What is a function?\n",
    "- A function is like a mini-program within a program.\n",
    "\n",
    "- Functions are a way to organize code that performs a specific task.\n",
    "\n",
    "#### What are the benefits of using functions?\n",
    "- __Reusability__: A function can be used multiple times throughout the program to avoid rewriting the same code. \n",
    "\n",
    "- __Readability__: Meaningful function names make it easier to understand the purpose of the code. Functions allow you to focus on what the function accomplished rather than how it is implemented. \n",
    "\n",
    "- __Maintainability__: Functions make it easier to locate and fix bugs throughout the program."
   ]
  },
  {
   "cell_type": "code",
   "execution_count": 507,
   "id": "3177bb08-e1c5-46cd-a264-110dfd458e8d",
   "metadata": {},
   "outputs": [
    {
     "name": "stdout",
     "output_type": "stream",
     "text": [
      "Hello\n",
      "My name is...\n",
      "Nice to meet you!\n",
      "Hello\n",
      "My name is...\n",
      "Nice to meet you!\n",
      "Hello\n",
      "My name is...\n",
      "Nice to meet you!\n"
     ]
    }
   ],
   "source": [
    "# Creating a function\n",
    "\n",
    "def hello(): # the keyword def is used to define a function. The function name is hello.\n",
    "    print('Hello') # The body of the function is indented.\n",
    "    print('My name is...')\n",
    "    print('Nice to meet you!')\n",
    "\n",
    "hello() # This is how you call a function. The function name is followed by parentheses.\n",
    "hello() # When a function is called, the code inside the function is executed.\n",
    "hello() # You can call a function as many times as you want."
   ]
  },
  {
   "cell_type": "markdown",
   "id": "7df98b55",
   "metadata": {},
   "source": [
    "***\n",
    "A major purpose of functions is to group code that gets executed multiple times. Without a function defined, you would have to copy and paste this code each time, and the program would look like this:\n",
    "***"
   ]
  },
  {
   "cell_type": "code",
   "execution_count": 508,
   "id": "b87f2918",
   "metadata": {},
   "outputs": [
    {
     "name": "stdout",
     "output_type": "stream",
     "text": [
      "Hello\n",
      "My name is...\n",
      "Nice to meet you!\n",
      "Hello\n",
      "My name is...\n",
      "Nice to meet you!\n",
      "Hello\n",
      "My name is...\n",
      "Nice to meet you!\n"
     ]
    }
   ],
   "source": [
    "# Without a function, the code would look like this:\n",
    "\n",
    "print('Hello') \n",
    "print('My name is...')\n",
    "print('Nice to meet you!')\n",
    "print('Hello') \n",
    "print('My name is...')\n",
    "print('Nice to meet you!')\n",
    "print('Hello') \n",
    "print('My name is...')\n",
    "print('Nice to meet you!')"
   ]
  },
  {
   "cell_type": "markdown",
   "id": "5e4dfe64",
   "metadata": {},
   "source": [
    "***\n",
    "In general, we want to avoid code duplication to make programs shorter, easier to read, and easier to update.\n",
    "***"
   ]
  },
  {
   "cell_type": "markdown",
   "id": "47fc4a59",
   "metadata": {},
   "source": [
    "#### Functions With Parameters\n",
    "- When you call the `print()` function, you pass in values between the parenthesis called __arguments__. The arguments tell the function what to print to the screen.\n",
    "- You can define your own functions to accept arguments."
   ]
  },
  {
   "cell_type": "code",
   "execution_count": 509,
   "id": "e066058e",
   "metadata": {},
   "outputs": [
    {
     "name": "stdout",
     "output_type": "stream",
     "text": [
      "Hello, Alice\n",
      "Hello, Bob\n"
     ]
    }
   ],
   "source": [
    "def hello(name): # The function hello() has a parameter called name.\n",
    "    print('Hello, ' + name)\n",
    "\n",
    "hello('Alice') # The function hello() is called with the argument 'Alice'.\n",
    "hello('Bob') # The function is called again with the argument 'Bob'."
   ]
  },
  {
   "cell_type": "code",
   "execution_count": 510,
   "id": "e0e2967d",
   "metadata": {},
   "outputs": [
    {
     "name": "stdout",
     "output_type": "stream",
     "text": [
      "100\n"
     ]
    }
   ],
   "source": [
    "def square(number): # number is the parameter of the function square().\n",
    "    print(number * number) # printing the result of whatever number is squared.\n",
    "\n",
    "square(10) # The function square() is called with the argument 10."
   ]
  },
  {
   "cell_type": "markdown",
   "id": "93f47f22",
   "metadata": {},
   "source": [
    "<div class=\"alert alert-block alert-info\">\n",
    "<b>Arguments vs Parameters:</b> Function parameters are the names listed in the function's definition. Function arguments are the real values passed to the function. \n",
    "\n",
    "In the functions above, __name & number__ are parameters, while  __Alice, Bob, & 10__ are arguments.\n",
    "\n",
    "</div>"
   ]
  },
  {
   "cell_type": "markdown",
   "id": "b8e9fd43",
   "metadata": {},
   "source": [
    "#### Return Values and `return` Statements\n",
    "- A `return` statement gives back the results of a function. \n",
    "- When creating a function using the def statement, you can specify what the return value should be with a return statement. A return statement consists of the following:\n",
    "    - The `return` keyword\n",
    "    - The value or expression that the function should return"
   ]
  },
  {
   "cell_type": "code",
   "execution_count": 511,
   "id": "63bc4fa9",
   "metadata": {},
   "outputs": [
    {
     "name": "stdout",
     "output_type": "stream",
     "text": [
      "100\n"
     ]
    }
   ],
   "source": [
    "def square(number):\n",
    "    return number * number # The return statement causes the function to immediately end and return the value back to the caller.\n",
    "\n",
    "square_of_ten = square(10) # The return value of the function is stored in the variable square_of_ten.\n",
    "print(square_of_ten)"
   ]
  },
  {
   "cell_type": "code",
   "execution_count": 512,
   "id": "011845d2",
   "metadata": {},
   "outputs": [
    {
     "name": "stdout",
     "output_type": "stream",
     "text": [
      "Very doubtful\n"
     ]
    }
   ],
   "source": [
    "# Function emulating magic 8 ball answers\n",
    "\n",
    "import random # The import statement imports a module. The random module contains functions that generate random numbers.\n",
    "\n",
    "# The function getAnswer() takes in a number and returns a string.\n",
    "def getAnswer(answerNumber): # The function getAnswer() has a parameter called answerNumber.\n",
    "    if answerNumber == 1: \n",
    "        return 'It is certain' # Depending on the value in answerNumber, the function returns one of many possible string values.\n",
    "    elif answerNumber == 2:\n",
    "        return 'It is decidedly so'\n",
    "    elif answerNumber == 3:\n",
    "        return 'Yes'\n",
    "    elif answerNumber == 4:\n",
    "        return 'Reply hazy try again'\n",
    "    elif answerNumber == 5:\n",
    "        return 'Ask again later'\n",
    "    elif answerNumber == 6:\n",
    "        return 'Concentrate and ask again'\n",
    "    elif answerNumber == 7:\n",
    "        return 'My reply is no'\n",
    "    elif answerNumber == 8:\n",
    "        return 'Outlook not so good'\n",
    "    elif answerNumber == 9:\n",
    "        return 'Very doubtful'\n",
    "\n",
    "random_integer = random.randint(1, 9) # random.randint() returns a random integer between the two arguments.\n",
    "fortune = getAnswer(random_integer) # getAnswer() is called and returns a value into the variable fortune.\n",
    "print(fortune)"
   ]
  },
  {
   "cell_type": "code",
   "execution_count": 513,
   "id": "19e6bdc9",
   "metadata": {},
   "outputs": [
    {
     "name": "stdout",
     "output_type": "stream",
     "text": [
      "It is decidedly so\n"
     ]
    }
   ],
   "source": [
    "print(getAnswer(random.randint(1, 9))) # The single line of code is equivalent to the three lines of code above it.\n",
    "# print(\"\") # the value returned by getAnswer() is passed to the print() function."
   ]
  },
  {
   "cell_type": "markdown",
   "id": "98820aba",
   "metadata": {},
   "source": [
    "#### The None Value\n",
    "- All functions calls need to evaluate to a return value, but what if there is nothing you wish to return?\n",
    "- In Python, there is a value called `None`, which represents the absence of a value. \n",
    "    - Other programming languages might call this value null, nil, or undefined.\n",
    "    - Just like the Boolean `True` and `False` values, `None` __must be typed__ with a capital N.\n",
    "    - The data type of `None` is `NoneType`.\n",
    "- Behind the scenes, Python adds `return None` to the end of any function definition with no return statement."
   ]
  },
  {
   "cell_type": "code",
   "execution_count": 514,
   "id": "ed4c30fd",
   "metadata": {},
   "outputs": [
    {
     "name": "stdout",
     "output_type": "stream",
     "text": [
      "Hello!\n"
     ]
    },
    {
     "data": {
      "text/plain": [
       "True"
      ]
     },
     "execution_count": 514,
     "metadata": {},
     "output_type": "execute_result"
    }
   ],
   "source": [
    "spam = print('Hello!') # The print() function returns None.\n",
    "None == spam"
   ]
  },
  {
   "cell_type": "code",
   "execution_count": 515,
   "id": "bdfb9494",
   "metadata": {},
   "outputs": [
    {
     "name": "stdout",
     "output_type": "stream",
     "text": [
      "100\n"
     ]
    }
   ],
   "source": [
    "# If you don't specify a return value, the function returns None.\n",
    "\n",
    "def square(number): \n",
    "    print(number * number) \n",
    "    # return None\n",
    "\n",
    "square(10) "
   ]
  },
  {
   "cell_type": "markdown",
   "id": "7bd2d53a",
   "metadata": {},
   "source": [
    "#### Keyword Arguments\n",
    "- Keyword arguments are a way to pass arguments to a function by explicitly specifying the parameter names along with their values."
   ]
  },
  {
   "cell_type": "code",
   "execution_count": 516,
   "id": "357e1374",
   "metadata": {},
   "outputs": [
    {
     "name": "stdout",
     "output_type": "stream",
     "text": [
      "Hello\n",
      "World\n"
     ]
    }
   ],
   "source": [
    "print('Hello') # when the print() function is called like this, it adds a newline character at the end of the string.\n",
    "print('World')"
   ]
  },
  {
   "cell_type": "code",
   "execution_count": 517,
   "id": "07888587",
   "metadata": {},
   "outputs": [
    {
     "name": "stdout",
     "output_type": "stream",
     "text": [
      "HelloWorld\n"
     ]
    }
   ],
   "source": [
    "# print() has a keyword argument called end.\n",
    "\n",
    "print('Hello', end='') # When the end keyword argument is set to an empty string, the new line character is not added.\n",
    "print('World')"
   ]
  },
  {
   "cell_type": "code",
   "execution_count": 518,
   "id": "33dc8609",
   "metadata": {},
   "outputs": [
    {
     "name": "stdout",
     "output_type": "stream",
     "text": [
      "cats dogs mice\n"
     ]
    }
   ],
   "source": [
    "print('cats', 'dogs', 'mice') # print() can take in multiple arguments, separated by commas."
   ]
  },
  {
   "cell_type": "code",
   "execution_count": 519,
   "id": "fc7fd1df",
   "metadata": {},
   "outputs": [
    {
     "name": "stdout",
     "output_type": "stream",
     "text": [
      "cats,dogs,mice\n"
     ]
    }
   ],
   "source": [
    "print('cats', 'dogs', 'mice', sep=',') # the sep keyword argument can be changed from a space to a comma."
   ]
  },
  {
   "cell_type": "code",
   "execution_count": 520,
   "id": "75ab2a5a",
   "metadata": {},
   "outputs": [
    {
     "data": {
      "text/plain": [
       "100"
      ]
     },
     "execution_count": 520,
     "metadata": {},
     "output_type": "execute_result"
    }
   ],
   "source": [
    "def square(number): \n",
    "    return number * number\n",
    "\n",
    "square(number=10)  # The keyword argument number is set to 10."
   ]
  },
  {
   "attachments": {
    "image.png": {
     "image/png": "[encoded data removed]"
    }
   },
   "cell_type": "markdown",
   "id": "2b25294d",
   "metadata": {},
   "source": [
    "### The Call Stack, Scope, & Exception Handling\n",
    "\n",
    "- The __call stack__ is a data structure that keeps track of function calls. It keeps track of where to go back to when a function finishes. \n",
    "\n",
    "#### The Call Stack Analogy \n",
    "\n",
    "![image.png](attachment:image.png)\n",
    "\n",
    "A meandering conversation that leads to talking about different people.\n",
    "\n",
    "In this analogy, the stories of the different people are different functions. The call stack knows the order of when the stories start and finish. "
   ]
  },
  {
   "cell_type": "code",
   "execution_count": 521,
   "id": "0a96cf97",
   "metadata": {},
   "outputs": [
    {
     "name": "stdout",
     "output_type": "stream",
     "text": [
      "a() starts\n",
      "b() starts\n",
      "c() starts\n",
      "c() returns\n",
      "b() returns\n",
      "d() starts\n",
      "d() returns\n",
      "a() returns\n"
     ]
    }
   ],
   "source": [
    "# Functions can call other functions. What will the following code display?\n",
    "\n",
    "def a():\n",
    "    print('a() starts')\n",
    "    b()\n",
    "    d()\n",
    "    print('a() returns')\n",
    "\n",
    "def b():\n",
    "    print('b() starts')\n",
    "    c()\n",
    "    print('b() returns')\n",
    "\n",
    "def c():\n",
    "    print('c() starts')\n",
    "    print('c() returns')\n",
    "\n",
    "def d():\n",
    "    print('d() starts')\n",
    "    print('d() returns')\n",
    "\n",
    "a()"
   ]
  },
  {
   "attachments": {
    "image.png": {
     "image/png": "[encoded data removed]"
    }
   },
   "cell_type": "markdown",
   "id": "0a4416b6",
   "metadata": {},
   "source": [
    "https://autbor.com/abcdcallstack/.\n",
    "\n",
    "![image.png](attachment:image.png)"
   ]
  },
  {
   "cell_type": "markdown",
   "id": "679a15ff",
   "metadata": {},
   "source": [
    "#### Local and Global Scope\n",
    "- __Scope:__ The accessibility and visibility of variables within different parts of your code.\n",
    "- Parameters and variables that are assigned in a function are said to exist in that function’s *local scope*. A variable that exists in a local scope is called a *local variable*.\n",
    "- Variables that are assigned outside all functions are said to exist in the *global scope*. A variable that exists in a global scope is called a *global variable*.\n",
    "- A variable must be one or the other; it cannot be both local and global."
   ]
  },
  {
   "cell_type": "code",
   "execution_count": 522,
   "id": "76f36dc8",
   "metadata": {},
   "outputs": [],
   "source": [
    "def birds():\n",
    "    # in a local scope\n",
    "    turkey = \"local turkey\" # local variable\n",
    "# in the global scope\n",
    "chicken = \"global chicken\" # global variable"
   ]
  },
  {
   "cell_type": "markdown",
   "id": "f48370e1",
   "metadata": {},
   "source": [
    "***\n",
    "Code in the global scope, outside of all functions, cannot use any local variables.\n",
    "***"
   ]
  },
  {
   "cell_type": "code",
   "execution_count": 523,
   "id": "f710c59d",
   "metadata": {},
   "outputs": [
    {
     "ename": "NameError",
     "evalue": "name 'turkey' is not defined",
     "output_type": "error",
     "traceback": [
      "\u001b[1;31m---------------------------------------------------------------------------\u001b[0m",
      "\u001b[1;31mNameError\u001b[0m                                 Traceback (most recent call last)",
      "\u001b[1;32mc:\\Users\\FZZN5B\\VS Code Projects\\python-course\\Chapter3&4.ipynb Cell 35\u001b[0m line \u001b[0;36m4\n\u001b[0;32m      <a href='vscode-notebook-cell:/c%3A/Users/FZZN5B/VS%20Code%20Projects/python-course/Chapter3%264.ipynb#Y405sZmlsZQ%3D%3D?line=1'>2</a>\u001b[0m     turkey \u001b[39m=\u001b[39m \u001b[39m\"\u001b[39m\u001b[39mlocal turkey\u001b[39m\u001b[39m\"\u001b[39m\n\u001b[0;32m      <a href='vscode-notebook-cell:/c%3A/Users/FZZN5B/VS%20Code%20Projects/python-course/Chapter3%264.ipynb#Y405sZmlsZQ%3D%3D?line=2'>3</a>\u001b[0m birds()\n\u001b[1;32m----> <a href='vscode-notebook-cell:/c%3A/Users/FZZN5B/VS%20Code%20Projects/python-course/Chapter3%264.ipynb#Y405sZmlsZQ%3D%3D?line=3'>4</a>\u001b[0m \u001b[39mprint\u001b[39m(turkey) \u001b[39m# the global scope cannot use local variables\u001b[39;00m\n",
      "\u001b[1;31mNameError\u001b[0m: name 'turkey' is not defined"
     ]
    }
   ],
   "source": [
    "def birds():\n",
    "    turkey = \"local turkey\"\n",
    "birds()\n",
    "print(turkey) # the global scope cannot use local variables"
   ]
  },
  {
   "cell_type": "markdown",
   "id": "f4fa1316",
   "metadata": {},
   "source": [
    "***\n",
    "However, code in a local scope can access global variables.\n",
    "***"
   ]
  },
  {
   "cell_type": "code",
   "execution_count": 524,
   "id": "697a4f26",
   "metadata": {},
   "outputs": [
    {
     "name": "stdout",
     "output_type": "stream",
     "text": [
      "global chicken\n"
     ]
    }
   ],
   "source": [
    "def birds():\n",
    "    print (chicken) # printing in a local scope\n",
    "chicken = \"global chicken\" \n",
    "birds()\n"
   ]
  },
  {
   "cell_type": "markdown",
   "id": "1e0a23fe",
   "metadata": {},
   "source": [
    "***\n",
    "Code in a function’s local scope cannot use variables in any other local scope.\n",
    "***"
   ]
  },
  {
   "cell_type": "code",
   "execution_count": 525,
   "id": "238e5c85",
   "metadata": {},
   "outputs": [],
   "source": [
    "def reptiles():\n",
    "    # in a local scope\n",
    "    lizard = \"local lizard\"\n",
    "reptiles()\n",
    "def birds():\n",
    "    # in different local scope\n",
    "    print(lizard) # lizard is not printed"
   ]
  },
  {
   "cell_type": "markdown",
   "id": "dbb851f0",
   "metadata": {},
   "source": [
    "***\n",
    "You can use the same name for different variables if they are in different scopes.\n",
    "***"
   ]
  },
  {
   "cell_type": "code",
   "execution_count": 526,
   "id": "64752133",
   "metadata": {},
   "outputs": [
    {
     "name": "stdout",
     "output_type": "stream",
     "text": [
      "local chicken\n",
      "global chicken\n"
     ]
    }
   ],
   "source": [
    "def birds(): \n",
    "    chicken = \"local chicken\"\n",
    "    print (chicken) # local chicken is printed\n",
    "chicken = \"global chicken\"\n",
    "birds()\n",
    "print (chicken) # global chicken is printed"
   ]
  },
  {
   "cell_type": "markdown",
   "id": "b4ed6bf1",
   "metadata": {},
   "source": [
    "#### The `global` Statement\n",
    "- To modify a global variable within a function, use the `global` statement.\n",
    "- This tells Python to not create a new local variable and use the global variable instead."
   ]
  },
  {
   "cell_type": "code",
   "execution_count": 527,
   "id": "d34ef8cf",
   "metadata": {},
   "outputs": [
    {
     "name": "stdout",
     "output_type": "stream",
     "text": [
      "local chicken\n"
     ]
    }
   ],
   "source": [
    "def birds(): \n",
    "    global chicken # refer to the global chicken, rather than creating a local chicken\n",
    "    chicken = \"local chicken\"\n",
    "chicken = \"global chicken\"\n",
    "birds() # redefines the global chicken\n",
    "print (chicken)"
   ]
  },
  {
   "cell_type": "code",
   "execution_count": 528,
   "id": "379ec305",
   "metadata": {},
   "outputs": [
    {
     "name": "stdout",
     "output_type": "stream",
     "text": [
      "spam\n"
     ]
    }
   ],
   "source": [
    "# demonstrates changing a global variable from within a function\n",
    "def spam():\n",
    "    global eggs\n",
    "    eggs = 'spam' # this is the global\n",
    "\n",
    "# demonstrates that a global variable will not be changed if it is not defined as global\n",
    "def bacon():\n",
    "    eggs = 'bacon' # this creates a local variable\n",
    "\n",
    "# demonstrates that a function can use a global variable without the global keyword if it does not change the variable\n",
    "def ham():\n",
    "    print(eggs) # this is the global\n",
    "\n",
    "eggs = 42 # this is the global\n",
    "spam()\n",
    "bacon()\n",
    "ham()"
   ]
  },
  {
   "cell_type": "markdown",
   "id": "ee2fa380",
   "metadata": {},
   "source": [
    "<div class=\"alert alert-block alert-warning\">\n",
    "If you try to use a local variable in a function before you assign a value to it, as in the following program, Python will give you an error.\n",
    "</div>"
   ]
  },
  {
   "cell_type": "code",
   "execution_count": 529,
   "id": "c63c037b",
   "metadata": {},
   "outputs": [
    {
     "ename": "UnboundLocalError",
     "evalue": "local variable 'chicken' referenced before assignment",
     "output_type": "error",
     "traceback": [
      "\u001b[1;31m---------------------------------------------------------------------------\u001b[0m",
      "\u001b[1;31mUnboundLocalError\u001b[0m                         Traceback (most recent call last)",
      "\u001b[1;32mc:\\Users\\FZZN5B\\VS Code Projects\\python-course\\Chapter3&4.ipynb Cell 46\u001b[0m line \u001b[0;36m7\n\u001b[0;32m      <a href='vscode-notebook-cell:/c%3A/Users/FZZN5B/VS%20Code%20Projects/python-course/Chapter3%264.ipynb#Y422sZmlsZQ%3D%3D?line=3'>4</a>\u001b[0m     chicken \u001b[39m=\u001b[39m \u001b[39m'\u001b[39m\u001b[39mlocal chicken\u001b[39m\u001b[39m'\u001b[39m \n\u001b[0;32m      <a href='vscode-notebook-cell:/c%3A/Users/FZZN5B/VS%20Code%20Projects/python-course/Chapter3%264.ipynb#Y422sZmlsZQ%3D%3D?line=5'>6</a>\u001b[0m chicken \u001b[39m=\u001b[39m \u001b[39m'\u001b[39m\u001b[39mglobal chicken\u001b[39m\u001b[39m'\u001b[39m\n\u001b[1;32m----> <a href='vscode-notebook-cell:/c%3A/Users/FZZN5B/VS%20Code%20Projects/python-course/Chapter3%264.ipynb#Y422sZmlsZQ%3D%3D?line=6'>7</a>\u001b[0m birds()\n",
      "\u001b[1;32mc:\\Users\\FZZN5B\\VS Code Projects\\python-course\\Chapter3&4.ipynb Cell 46\u001b[0m line \u001b[0;36m3\n\u001b[0;32m      <a href='vscode-notebook-cell:/c%3A/Users/FZZN5B/VS%20Code%20Projects/python-course/Chapter3%264.ipynb#Y422sZmlsZQ%3D%3D?line=1'>2</a>\u001b[0m \u001b[39mdef\u001b[39;00m \u001b[39mbirds\u001b[39m():\n\u001b[1;32m----> <a href='vscode-notebook-cell:/c%3A/Users/FZZN5B/VS%20Code%20Projects/python-course/Chapter3%264.ipynb#Y422sZmlsZQ%3D%3D?line=2'>3</a>\u001b[0m     \u001b[39mprint\u001b[39m(chicken) \u001b[39m# ERROR! 'chicken' is referenced before assignment. Python assumes that chicken is a local variable that has not been assigned.\u001b[39;00m\n\u001b[0;32m      <a href='vscode-notebook-cell:/c%3A/Users/FZZN5B/VS%20Code%20Projects/python-course/Chapter3%264.ipynb#Y422sZmlsZQ%3D%3D?line=3'>4</a>\u001b[0m     chicken \u001b[39m=\u001b[39m \u001b[39m'\u001b[39m\u001b[39mlocal chicken\u001b[39m\u001b[39m'\u001b[39m\n",
      "\u001b[1;31mUnboundLocalError\u001b[0m: local variable 'chicken' referenced before assignment"
     ]
    }
   ],
   "source": [
    "# Without the global keyword, any assignment to a variable will be assumed to be local. \n",
    "def birds():\n",
    "    print(chicken) # ERROR! 'chicken' is referenced before assignment. Python assumes that chicken is a local variable that has not been assigned.\n",
    "    chicken = 'local chicken' \n",
    "\n",
    "chicken = 'global chicken'\n",
    "birds()"
   ]
  },
  {
   "cell_type": "code",
   "execution_count": 530,
   "id": "dda3d28d",
   "metadata": {},
   "outputs": [
    {
     "name": "stdout",
     "output_type": "stream",
     "text": [
      "global chicken\n"
     ]
    }
   ],
   "source": [
    "# Without the assignment, Python now assumes that 'chicken' is a global variable.\n",
    "def birds():\n",
    "    print(chicken) \n",
    "    # chicken = 'local chicken' \n",
    "\n",
    "chicken = 'global chicken'\n",
    "birds()"
   ]
  },
  {
   "cell_type": "markdown",
   "id": "9e51e589",
   "metadata": {},
   "source": [
    "#### What is a Black Box?\n",
    "- A function being a black box means that, from the outside, you interact with it by providing inputs and receiving outputs, without knowing or needing to understand how the function works.\n",
    "- When your programming, you may end up using functions written by other people without knowing the implementation details."
   ]
  },
  {
   "cell_type": "markdown",
   "id": "3ff6fea0",
   "metadata": {},
   "source": [
    "#### Exception Handling \n",
    "- Right now, getting an error, or exception, in your Python program means the entire program will crash.\n",
    "- We want programs to detect errors, handle them, and them continue to run."
   ]
  },
  {
   "cell_type": "code",
   "execution_count": 531,
   "id": "2806d86f",
   "metadata": {},
   "outputs": [
    {
     "name": "stdout",
     "output_type": "stream",
     "text": [
      "21.0\n",
      "3.5\n"
     ]
    },
    {
     "ename": "ZeroDivisionError",
     "evalue": "division by zero",
     "output_type": "error",
     "traceback": [
      "\u001b[1;31m---------------------------------------------------------------------------\u001b[0m",
      "\u001b[1;31mZeroDivisionError\u001b[0m                         Traceback (most recent call last)",
      "\u001b[1;32mc:\\Users\\FZZN5B\\VS Code Projects\\python-course\\Chapter3&4.ipynb Cell 50\u001b[0m line \u001b[0;36m6\n\u001b[0;32m      <a href='vscode-notebook-cell:/c%3A/Users/FZZN5B/VS%20Code%20Projects/python-course/Chapter3%264.ipynb#Y425sZmlsZQ%3D%3D?line=3'>4</a>\u001b[0m \u001b[39mprint\u001b[39m(divide_42_by(\u001b[39m2\u001b[39m))\n\u001b[0;32m      <a href='vscode-notebook-cell:/c%3A/Users/FZZN5B/VS%20Code%20Projects/python-course/Chapter3%264.ipynb#Y425sZmlsZQ%3D%3D?line=4'>5</a>\u001b[0m \u001b[39mprint\u001b[39m(divide_42_by(\u001b[39m12\u001b[39m))\n\u001b[1;32m----> <a href='vscode-notebook-cell:/c%3A/Users/FZZN5B/VS%20Code%20Projects/python-course/Chapter3%264.ipynb#Y425sZmlsZQ%3D%3D?line=5'>6</a>\u001b[0m \u001b[39mprint\u001b[39m(divide_42_by(\u001b[39m0\u001b[39;49m)) \u001b[39m# What is 42 divided by 0?\u001b[39;00m\n\u001b[0;32m      <a href='vscode-notebook-cell:/c%3A/Users/FZZN5B/VS%20Code%20Projects/python-course/Chapter3%264.ipynb#Y425sZmlsZQ%3D%3D?line=6'>7</a>\u001b[0m \u001b[39mprint\u001b[39m(divide_42_by(\u001b[39m1\u001b[39m))\n",
      "\u001b[1;32mc:\\Users\\FZZN5B\\VS Code Projects\\python-course\\Chapter3&4.ipynb Cell 50\u001b[0m line \u001b[0;36m2\n\u001b[0;32m      <a href='vscode-notebook-cell:/c%3A/Users/FZZN5B/VS%20Code%20Projects/python-course/Chapter3%264.ipynb#Y425sZmlsZQ%3D%3D?line=0'>1</a>\u001b[0m \u001b[39mdef\u001b[39;00m \u001b[39mdivide_42_by\u001b[39m(divideBy):\n\u001b[1;32m----> <a href='vscode-notebook-cell:/c%3A/Users/FZZN5B/VS%20Code%20Projects/python-course/Chapter3%264.ipynb#Y425sZmlsZQ%3D%3D?line=1'>2</a>\u001b[0m     \u001b[39mreturn\u001b[39;00m \u001b[39m42\u001b[39;49m \u001b[39m/\u001b[39;49m divideBy\n",
      "\u001b[1;31mZeroDivisionError\u001b[0m: division by zero"
     ]
    }
   ],
   "source": [
    "def divide_42_by(divideBy):\n",
    "    return 42 / divideBy\n",
    "\n",
    "print(divide_42_by(2))\n",
    "print(divide_42_by(12))\n",
    "print(divide_42_by(0)) # What is 42 divided by 0?\n",
    "print(divide_42_by(1))"
   ]
  },
  {
   "cell_type": "markdown",
   "id": "fcfcbe60",
   "metadata": {},
   "source": [
    "***\n",
    "Errors can be handled with try and except statements. The code that could potentially have an error is put in a `try` clause. The program execution moves to the start of a following `except` clause if an error happens.\n",
    "***"
   ]
  },
  {
   "cell_type": "code",
   "execution_count": 532,
   "id": "a6e6e244",
   "metadata": {},
   "outputs": [
    {
     "name": "stdout",
     "output_type": "stream",
     "text": [
      "21.0\n",
      "3.5\n",
      "Error: Invalid argument.\n",
      "None\n",
      "42.0\n"
     ]
    }
   ],
   "source": [
    "def divide_42_by(divideBy):\n",
    "    try:\n",
    "        return 42 / divideBy\n",
    "    except ZeroDivisionError: # immediately moves to the except clause\n",
    "        print('Error: Invalid argument.')\n",
    "\n",
    "print(divide_42_by(2))\n",
    "print(divide_42_by(12))\n",
    "print(divide_42_by(0))\n",
    "print(divide_42_by(1))"
   ]
  },
  {
   "cell_type": "code",
   "execution_count": 534,
   "id": "cd2591e7",
   "metadata": {},
   "outputs": [
    {
     "name": "stdout",
     "output_type": "stream",
     "text": [
      "********\n",
      " ********\n",
      "  ********\n",
      "   ********\n",
      "    ********\n",
      "     ********\n",
      "      ********\n",
      "       ********\n",
      "        ********\n",
      "         ********\n",
      "          ********\n",
      "           ********\n",
      "            ********\n",
      "             ********\n",
      "              ********\n",
      "               ********\n",
      "                ********\n",
      "                 ********\n",
      "                  ********\n",
      "                   ********\n",
      "                    ********\n",
      "                   ********\n",
      "                  ********\n",
      "                 ********\n",
      "                ********\n",
      "               ********\n",
      "              ********\n",
      "             ********\n",
      "            ********\n",
      "           ********\n",
      "          ********\n",
      "         ********\n",
      "        ********\n",
      "       ********\n",
      "      ********\n",
      "     ********\n",
      "    ********\n",
      "   ********\n",
      "  ********\n",
      " ********\n",
      "********\n",
      " ********\n",
      "  ********\n",
      "program stopped\n"
     ]
    }
   ],
   "source": [
    "# ZigZag program that stops with a keyboard interrupt exception\n",
    "\n",
    "import time\n",
    "indent = 0 # How many spaces to indent.\n",
    "indentIncreasing = True # Whether the indentation is increasing or not.\n",
    "\n",
    "try:\n",
    "    while True: # The main program loop.\n",
    "        print(' ' * indent, end='')\n",
    "        print('********')\n",
    "        time.sleep(0.1) # Pause for 1/10 of a second.\n",
    "\n",
    "        if indentIncreasing:\n",
    "            # Increase the number of spaces:\n",
    "            indent = indent + 1\n",
    "            if indent == 20:\n",
    "                # Change direction:\n",
    "                indentIncreasing = False\n",
    "\n",
    "        else:\n",
    "            # Decrease the number of spaces:\n",
    "            indent = indent - 1\n",
    "            if indent == 0:\n",
    "                # Change direction:\n",
    "                indentIncreasing = True\n",
    "except KeyboardInterrupt:\n",
    "    print(\"program stopped\")"
   ]
  },
  {
   "cell_type": "markdown",
   "id": "c32d055c",
   "metadata": {},
   "source": [
    "#### Best Practices On Functions\n",
    "- Use __pure functions__ whenever possible. \n",
    "    - Returns the same values given the same arguments.\n",
    "    - The function has no side effects. (No usage of non-local variables & input/output streams)\n"
   ]
  },
  {
   "cell_type": "code",
   "execution_count": 535,
   "id": "86e68e84",
   "metadata": {},
   "outputs": [
    {
     "name": "stdout",
     "output_type": "stream",
     "text": [
      "920.0\n"
     ]
    }
   ],
   "source": [
    "# Impure Function Example\n",
    "\n",
    "exchange_rate = 0.92 # global variable\n",
    "\n",
    "def dollar_to_euro(dollars):\n",
    "    return dollars * exchange_rate\n",
    "\n",
    "print(dollar_to_euro(1000))"
   ]
  },
  {
   "cell_type": "code",
   "execution_count": 536,
   "id": "fcbe1ff6",
   "metadata": {},
   "outputs": [
    {
     "name": "stdout",
     "output_type": "stream",
     "text": [
      "920.0\n"
     ]
    }
   ],
   "source": [
    "# Impure Function Example\n",
    "\n",
    "def dollar_to_euro(exchange_rate):\n",
    "    dollars = int(input(\"How many dollars do you want to convert? \"))\n",
    "    return dollars * exchange_rate\n",
    "\n",
    "print(dollar_to_euro(0.92))"
   ]
  },
  {
   "cell_type": "code",
   "execution_count": 537,
   "id": "796019b8",
   "metadata": {},
   "outputs": [
    {
     "name": "stdout",
     "output_type": "stream",
     "text": [
      "920.0\n"
     ]
    }
   ],
   "source": [
    "# Pure Function Example\n",
    "\n",
    "def dollar_to_euro(dollars, exchange_rate): # exchange_rate is a now parameter\n",
    "    return dollars * exchange_rate\n",
    "\n",
    "print(dollar_to_euro(1000, 0.92))"
   ]
  },
  {
   "cell_type": "code",
   "execution_count": 538,
   "id": "a7d8831a",
   "metadata": {},
   "outputs": [
    {
     "name": "stdout",
     "output_type": "stream",
     "text": [
      "920.0\n"
     ]
    }
   ],
   "source": [
    "# Pure Function Example with Type Hints\n",
    "\n",
    "def dollar_to_euro(dollars: int, exchange_rate: float) -> float: # hinting the types of the parameters and return value\n",
    "    return dollars * exchange_rate\n",
    "\n",
    "print(dollar_to_euro(1000, 0.92))"
   ]
  },
  {
   "cell_type": "markdown",
   "id": "c51584b6",
   "metadata": {},
   "source": [
    "# Chapter 4: Lists\n",
    "- A list is a value that contains multiple values in an ordered sequence.\n",
    "- A list value looks like this: `['cat', 'bat', 'rat', 'elephant']`.\n",
    "- A list begins with an opening square bracket and ends with a closing square bracket, `[]`.\n",
    "- Values inside the list are also called items, and are separated by commas. "
   ]
  },
  {
   "cell_type": "code",
   "execution_count": 539,
   "id": "7e6fb3de",
   "metadata": {},
   "outputs": [
    {
     "data": {
      "text/plain": [
       "[1, 2, 3]"
      ]
     },
     "execution_count": 539,
     "metadata": {},
     "output_type": "execute_result"
    }
   ],
   "source": [
    "[1, 2, 3]"
   ]
  },
  {
   "cell_type": "code",
   "execution_count": 540,
   "id": "9b21141b",
   "metadata": {},
   "outputs": [
    {
     "data": {
      "text/plain": [
       "['cat', 'bat', 'rat', 'elephant']"
      ]
     },
     "execution_count": 540,
     "metadata": {},
     "output_type": "execute_result"
    }
   ],
   "source": [
    "['cat', 'bat', 'rat', 'elephant']"
   ]
  },
  {
   "cell_type": "code",
   "execution_count": 541,
   "id": "88ce2f18",
   "metadata": {},
   "outputs": [
    {
     "data": {
      "text/plain": [
       "['hello', 3.1415, True, None, 42]"
      ]
     },
     "execution_count": 541,
     "metadata": {},
     "output_type": "execute_result"
    }
   ],
   "source": [
    "['hello', 3.1415, True, None, 42] # A list can contain values of any data type."
   ]
  },
  {
   "cell_type": "code",
   "execution_count": 542,
   "id": "e1d6e5ae",
   "metadata": {},
   "outputs": [
    {
     "data": {
      "text/plain": [
       "['cat', 'bat', 'rat', 'elephant']"
      ]
     },
     "execution_count": 542,
     "metadata": {},
     "output_type": "execute_result"
    }
   ],
   "source": [
    "spam = ['cat', 'bat', 'rat', 'elephant'] # spam is assigned one value, the list value. But the list value itself contains other values. \n",
    "spam"
   ]
  },
  {
   "cell_type": "markdown",
   "id": "77121147",
   "metadata": {},
   "source": [
    "#### Getting Individual Values in a List with Indexes\n",
    "<div class=\"alert alert-block alert-warning\">\n",
    "<b>The index of a list begins at 0</b> \n",
    "</div>\n",
    "\n",
    "![Alt text](image.png)\n",
    "\n",
    "Note that because the first index is 0, the last index is one less than the size of the list; a list of four items has 3 as its last index."
   ]
  },
  {
   "cell_type": "code",
   "execution_count": 543,
   "id": "4e5c55af",
   "metadata": {},
   "outputs": [],
   "source": [
    "spam = ['cat', 'bat', 'rat', 'elephant']"
   ]
  },
  {
   "cell_type": "code",
   "execution_count": 544,
   "id": "8a0099c8",
   "metadata": {},
   "outputs": [
    {
     "data": {
      "text/plain": [
       "'cat'"
      ]
     },
     "execution_count": 544,
     "metadata": {},
     "output_type": "execute_result"
    }
   ],
   "source": [
    "spam[0]"
   ]
  },
  {
   "cell_type": "code",
   "execution_count": 545,
   "id": "e6eb5803",
   "metadata": {},
   "outputs": [
    {
     "data": {
      "text/plain": [
       "'bat'"
      ]
     },
     "execution_count": 545,
     "metadata": {},
     "output_type": "execute_result"
    }
   ],
   "source": [
    "spam[1]"
   ]
  },
  {
   "cell_type": "code",
   "execution_count": 546,
   "id": "90a67261",
   "metadata": {},
   "outputs": [
    {
     "data": {
      "text/plain": [
       "'rat'"
      ]
     },
     "execution_count": 546,
     "metadata": {},
     "output_type": "execute_result"
    }
   ],
   "source": [
    "spam[2]"
   ]
  },
  {
   "cell_type": "code",
   "execution_count": 547,
   "id": "c9d00d18",
   "metadata": {},
   "outputs": [
    {
     "data": {
      "text/plain": [
       "'elephant'"
      ]
     },
     "execution_count": 547,
     "metadata": {},
     "output_type": "execute_result"
    }
   ],
   "source": [
    "spam[3]"
   ]
  },
  {
   "cell_type": "code",
   "execution_count": 548,
   "id": "dc36df70",
   "metadata": {},
   "outputs": [
    {
     "data": {
      "text/plain": [
       "'elephant'"
      ]
     },
     "execution_count": 548,
     "metadata": {},
     "output_type": "execute_result"
    }
   ],
   "source": [
    "['cat', 'bat', 'rat', 'elephant'][3]"
   ]
  },
  {
   "cell_type": "code",
   "execution_count": 549,
   "id": "ac178a53",
   "metadata": {},
   "outputs": [
    {
     "data": {
      "text/plain": [
       "'Hello, cat'"
      ]
     },
     "execution_count": 549,
     "metadata": {},
     "output_type": "execute_result"
    }
   ],
   "source": [
    "'Hello, ' + spam[0] # evaluates to 'Hello, ' + 'cat'"
   ]
  },
  {
   "cell_type": "code",
   "execution_count": 550,
   "id": "60691ad2",
   "metadata": {},
   "outputs": [
    {
     "data": {
      "text/plain": [
       "'The bat ate the cat.'"
      ]
     },
     "execution_count": 550,
     "metadata": {},
     "output_type": "execute_result"
    }
   ],
   "source": [
    "'The ' + spam[1] + ' ate the ' + spam[0] + '.'"
   ]
  },
  {
   "cell_type": "code",
   "execution_count": 551,
   "id": "f7316ceb",
   "metadata": {},
   "outputs": [
    {
     "ename": "IndexError",
     "evalue": "list index out of range",
     "output_type": "error",
     "traceback": [
      "\u001b[1;31m---------------------------------------------------------------------------\u001b[0m",
      "\u001b[1;31mIndexError\u001b[0m                                Traceback (most recent call last)",
      "\u001b[1;32mc:\\Users\\FZZN5B\\VS Code Projects\\python-course\\Chapter3&4.ipynb Cell 73\u001b[0m line \u001b[0;36m1\n\u001b[1;32m----> <a href='vscode-notebook-cell:/c%3A/Users/FZZN5B/VS%20Code%20Projects/python-course/Chapter3%264.ipynb#Y452sZmlsZQ%3D%3D?line=0'>1</a>\u001b[0m spam[\u001b[39m10000\u001b[39;49m] \u001b[39m# Python will give an IndexError if you use an index that exceeds the number of values in your list value.\u001b[39;00m\n",
      "\u001b[1;31mIndexError\u001b[0m: list index out of range"
     ]
    }
   ],
   "source": [
    "spam[10000] # Python will give an IndexError if you use an index that exceeds the number of values in your list value."
   ]
  },
  {
   "cell_type": "markdown",
   "id": "39ac8a9b",
   "metadata": {},
   "source": [
    "***\n",
    "The value of the index must not exceed the number of values in a list. Indexes can be only integer values, not floats.\n",
    "***"
   ]
  },
  {
   "cell_type": "code",
   "execution_count": 552,
   "id": "59e1c4e7",
   "metadata": {},
   "outputs": [
    {
     "data": {
      "text/plain": [
       "'bat'"
      ]
     },
     "execution_count": 552,
     "metadata": {},
     "output_type": "execute_result"
    }
   ],
   "source": [
    "spam[1]"
   ]
  },
  {
   "cell_type": "code",
   "execution_count": 553,
   "id": "0f627d43",
   "metadata": {},
   "outputs": [
    {
     "ename": "TypeError",
     "evalue": "list indices must be integers or slices, not float",
     "output_type": "error",
     "traceback": [
      "\u001b[1;31m---------------------------------------------------------------------------\u001b[0m",
      "\u001b[1;31mTypeError\u001b[0m                                 Traceback (most recent call last)",
      "\u001b[1;32mc:\\Users\\FZZN5B\\VS Code Projects\\python-course\\Chapter3&4.ipynb Cell 76\u001b[0m line \u001b[0;36m1\n\u001b[1;32m----> <a href='vscode-notebook-cell:/c%3A/Users/FZZN5B/VS%20Code%20Projects/python-course/Chapter3%264.ipynb#Y455sZmlsZQ%3D%3D?line=0'>1</a>\u001b[0m spam[\u001b[39m1.0\u001b[39;49m]\n",
      "\u001b[1;31mTypeError\u001b[0m: list indices must be integers or slices, not float"
     ]
    }
   ],
   "source": [
    "spam[1.0]"
   ]
  },
  {
   "cell_type": "markdown",
   "id": "c9f2e008",
   "metadata": {},
   "source": [
    "***\n",
    "Lists can also contain other list values. The values in these lists of lists can be accessed using multiple indexes.\n",
    "***"
   ]
  },
  {
   "cell_type": "code",
   "execution_count": 554,
   "id": "a4b52a78",
   "metadata": {},
   "outputs": [
    {
     "data": {
      "text/plain": [
       "['cat', 'bat']"
      ]
     },
     "execution_count": 554,
     "metadata": {},
     "output_type": "execute_result"
    }
   ],
   "source": [
    "spam = [['cat', 'bat'], [10, 20, 30, 40, 50]] # redefining spam\n",
    "spam[0]"
   ]
  },
  {
   "cell_type": "code",
   "execution_count": 555,
   "id": "34736894",
   "metadata": {},
   "outputs": [
    {
     "data": {
      "text/plain": [
       "'bat'"
      ]
     },
     "execution_count": 555,
     "metadata": {},
     "output_type": "execute_result"
    }
   ],
   "source": [
    "spam[0][1] # spam[0] evaluates to ['cat', 'bat'], and spam[0][1] evaluates to 'bat'."
   ]
  },
  {
   "cell_type": "code",
   "execution_count": 556,
   "id": "27f5e672",
   "metadata": {},
   "outputs": [
    {
     "data": {
      "text/plain": [
       "50"
      ]
     },
     "execution_count": 556,
     "metadata": {},
     "output_type": "execute_result"
    }
   ],
   "source": [
    "spam[1][4]"
   ]
  },
  {
   "cell_type": "markdown",
   "id": "2859f6c5",
   "metadata": {},
   "source": [
    "#### Negative Indexes\n",
    "- While indexes start at 0 and go up, you can also use negative integers for the index.\n",
    "- -1 refers to the last index in a list, the value -2 refers to the second-to-last index in a list, and so on."
   ]
  },
  {
   "cell_type": "code",
   "execution_count": 557,
   "id": "9a2e47d8",
   "metadata": {},
   "outputs": [
    {
     "data": {
      "text/plain": [
       "'elephant'"
      ]
     },
     "execution_count": 557,
     "metadata": {},
     "output_type": "execute_result"
    }
   ],
   "source": [
    "spam = ['cat', 'bat', 'rat', 'elephant']\n",
    "spam[-1]"
   ]
  },
  {
   "cell_type": "code",
   "execution_count": 558,
   "id": "dc85a9a0",
   "metadata": {},
   "outputs": [
    {
     "data": {
      "text/plain": [
       "'bat'"
      ]
     },
     "execution_count": 558,
     "metadata": {},
     "output_type": "execute_result"
    }
   ],
   "source": [
    "spam[-3]"
   ]
  },
  {
   "cell_type": "code",
   "execution_count": 559,
   "id": "c80d502d",
   "metadata": {},
   "outputs": [
    {
     "data": {
      "text/plain": [
       "'The elephant is afraid of the bat.'"
      ]
     },
     "execution_count": 559,
     "metadata": {},
     "output_type": "execute_result"
    }
   ],
   "source": [
    "'The ' + spam[-1] + ' is afraid of the ' + spam[-3] + '.'"
   ]
  },
  {
   "cell_type": "markdown",
   "id": "1ffa4d48",
   "metadata": {},
   "source": [
    "#### Getting a List from Another List with Slices\n",
    "- A slice is used to get several values from a list, in the form of a new list. \n",
    "- A slice is typed between square brackets, like an index, but it has two integers separated by a colon. ( Example: spam[1:2] )\n",
    "- The first integer is where the slice starts, the second integer is where the slice ends. \n",
    "- __A slice will not include the value at the second index__"
   ]
  },
  {
   "cell_type": "code",
   "execution_count": 560,
   "id": "ae3ad231",
   "metadata": {},
   "outputs": [
    {
     "data": {
      "text/plain": [
       "['cat', 'bat', 'rat', 'elephant']"
      ]
     },
     "execution_count": 560,
     "metadata": {},
     "output_type": "execute_result"
    }
   ],
   "source": [
    "spam = ['cat', 'bat', 'rat', 'elephant']\n",
    "spam[0:4]"
   ]
  },
  {
   "cell_type": "code",
   "execution_count": 561,
   "id": "38fcf1cf",
   "metadata": {},
   "outputs": [
    {
     "data": {
      "text/plain": [
       "['bat', 'rat']"
      ]
     },
     "execution_count": 561,
     "metadata": {},
     "output_type": "execute_result"
    }
   ],
   "source": [
    "spam[1:3]"
   ]
  },
  {
   "cell_type": "code",
   "execution_count": 562,
   "id": "6a498c79",
   "metadata": {},
   "outputs": [
    {
     "data": {
      "text/plain": [
       "['cat', 'bat', 'rat']"
      ]
     },
     "execution_count": 562,
     "metadata": {},
     "output_type": "execute_result"
    }
   ],
   "source": [
    "spam[0:-1] # -1 is the index of the last value in the list."
   ]
  },
  {
   "cell_type": "markdown",
   "id": "3f3c59d1",
   "metadata": {},
   "source": [
    "<div class=\"alert alert-block alert-info\">\n",
    "<b>Shortcuts:</b> You can leave out one or both of the indexes on either side of the colon in the slice. \n",
    "\n",
    "Leaving out the first index is the same as using 0, or the beginning of the list.\n",
    "\n",
    "Leaving out the second index is the same as using the length of the list.\n",
    "\n",
    "</div>"
   ]
  },
  {
   "cell_type": "code",
   "execution_count": 563,
   "id": "5d778ed6",
   "metadata": {},
   "outputs": [
    {
     "data": {
      "text/plain": [
       "['cat', 'bat']"
      ]
     },
     "execution_count": 563,
     "metadata": {},
     "output_type": "execute_result"
    }
   ],
   "source": [
    "spam = ['cat', 'bat', 'rat', 'elephant']\n",
    "spam[:2] # begins at the start of the list and goes up to, but does not include, the value at index 2.\n",
    "# spam[0:2]]"
   ]
  },
  {
   "cell_type": "code",
   "execution_count": 564,
   "id": "68965436",
   "metadata": {},
   "outputs": [
    {
     "data": {
      "text/plain": [
       "['bat', 'rat', 'elephant']"
      ]
     },
     "execution_count": 564,
     "metadata": {},
     "output_type": "execute_result"
    }
   ],
   "source": [
    "spam[1:] # begins at index 1 and goes through the end of the list\n",
    "# spam[1:4]]"
   ]
  },
  {
   "cell_type": "code",
   "execution_count": 565,
   "id": "740e0456",
   "metadata": {},
   "outputs": [
    {
     "data": {
      "text/plain": [
       "['cat', 'bat', 'rat', 'elephant']"
      ]
     },
     "execution_count": 565,
     "metadata": {},
     "output_type": "execute_result"
    }
   ],
   "source": [
    "spam[:] # a copy of the entire list\n",
    "# spam[0:4]"
   ]
  },
  {
   "cell_type": "markdown",
   "id": "4524a3ca",
   "metadata": {},
   "source": [
    "#### Getting a List’s Length with the len() Function\n",
    "- The len() function will return the number of values that are in a list value passed to it."
   ]
  },
  {
   "cell_type": "code",
   "execution_count": 566,
   "id": "9c3c965a",
   "metadata": {},
   "outputs": [
    {
     "data": {
      "text/plain": [
       "3"
      ]
     },
     "execution_count": 566,
     "metadata": {},
     "output_type": "execute_result"
    }
   ],
   "source": [
    "spam = ['cat', 'dog', 'moose']\n",
    "len(spam)"
   ]
  },
  {
   "cell_type": "code",
   "execution_count": 567,
   "id": "3576f4cf",
   "metadata": {},
   "outputs": [
    {
     "data": {
      "text/plain": [
       "0"
      ]
     },
     "execution_count": 567,
     "metadata": {},
     "output_type": "execute_result"
    }
   ],
   "source": [
    "spam = []\n",
    "len(spam)"
   ]
  },
  {
   "cell_type": "markdown",
   "id": "1d31d442",
   "metadata": {},
   "source": [
    "#### Changing Values in a List with Indexes"
   ]
  },
  {
   "cell_type": "code",
   "execution_count": 568,
   "id": "7eaecec4",
   "metadata": {},
   "outputs": [
    {
     "data": {
      "text/plain": [
       "'bat'"
      ]
     },
     "execution_count": 568,
     "metadata": {},
     "output_type": "execute_result"
    }
   ],
   "source": [
    "spam = ['cat', 'bat', 'rat', 'elephant']\n",
    "spam[1]"
   ]
  },
  {
   "cell_type": "code",
   "execution_count": 569,
   "id": "e27a97e3",
   "metadata": {},
   "outputs": [
    {
     "data": {
      "text/plain": [
       "['cat', 'aardvark', 'rat', 'elephant']"
      ]
     },
     "execution_count": 569,
     "metadata": {},
     "output_type": "execute_result"
    }
   ],
   "source": [
    "spam[1] = 'aardvark'\n",
    "spam"
   ]
  },
  {
   "cell_type": "code",
   "execution_count": 570,
   "id": "5922da02",
   "metadata": {},
   "outputs": [
    {
     "data": {
      "text/plain": [
       "['cat', 'aardvark', 'aardvark', 'elephant']"
      ]
     },
     "execution_count": 570,
     "metadata": {},
     "output_type": "execute_result"
    }
   ],
   "source": [
    "spam[2] = spam[1]\n",
    "spam"
   ]
  },
  {
   "cell_type": "code",
   "execution_count": 571,
   "id": "8e5d02dd",
   "metadata": {},
   "outputs": [
    {
     "data": {
      "text/plain": [
       "['cat', 'aardvark', 'aardvark', 12345]"
      ]
     },
     "execution_count": 571,
     "metadata": {},
     "output_type": "execute_result"
    }
   ],
   "source": [
    "spam[-1] = 12345\n",
    "spam"
   ]
  },
  {
   "cell_type": "markdown",
   "id": "7079e10c",
   "metadata": {},
   "source": [
    "#### List Concatenation and List Replication"
   ]
  },
  {
   "cell_type": "code",
   "execution_count": 572,
   "id": "1204d08e",
   "metadata": {},
   "outputs": [
    {
     "data": {
      "text/plain": [
       "[1, 2, 3, 'A', 'B', 'C']"
      ]
     },
     "execution_count": 572,
     "metadata": {},
     "output_type": "execute_result"
    }
   ],
   "source": [
    "[1, 2, 3] + ['A', 'B', 'C']"
   ]
  },
  {
   "cell_type": "code",
   "execution_count": 573,
   "id": "002df791",
   "metadata": {},
   "outputs": [
    {
     "data": {
      "text/plain": [
       "['X', 'Y', 'Z', 'X', 'Y', 'Z', 'X', 'Y', 'Z']"
      ]
     },
     "execution_count": 573,
     "metadata": {},
     "output_type": "execute_result"
    }
   ],
   "source": [
    "['X', 'Y', 'Z'] * 3"
   ]
  },
  {
   "cell_type": "code",
   "execution_count": 574,
   "id": "f7105584",
   "metadata": {},
   "outputs": [
    {
     "data": {
      "text/plain": [
       "[1, 2, 3, 'A', 'B', 'C']"
      ]
     },
     "execution_count": 574,
     "metadata": {},
     "output_type": "execute_result"
    }
   ],
   "source": [
    "spam = [1, 2, 3]\n",
    "spam = spam + ['A', 'B', 'C']\n",
    "spam"
   ]
  },
  {
   "cell_type": "markdown",
   "id": "751f9726",
   "metadata": {},
   "source": [
    "#### Removing Values from Lists with del Statements\n"
   ]
  },
  {
   "cell_type": "code",
   "execution_count": 575,
   "id": "caf31202",
   "metadata": {},
   "outputs": [
    {
     "data": {
      "text/plain": [
       "['cat', 'bat', 'elephant']"
      ]
     },
     "execution_count": 575,
     "metadata": {},
     "output_type": "execute_result"
    }
   ],
   "source": [
    "spam = ['cat', 'bat', 'rat', 'elephant']\n",
    "del spam[2]\n",
    "spam"
   ]
  },
  {
   "cell_type": "code",
   "execution_count": 576,
   "id": "5bf7436f",
   "metadata": {},
   "outputs": [
    {
     "data": {
      "text/plain": [
       "['cat', 'bat']"
      ]
     },
     "execution_count": 576,
     "metadata": {},
     "output_type": "execute_result"
    }
   ],
   "source": [
    "del spam[2] # 2 is now the last index\n",
    "spam"
   ]
  },
  {
   "cell_type": "code",
   "execution_count": 578,
   "id": "e08e82e0",
   "metadata": {},
   "outputs": [
    {
     "name": "stdout",
     "output_type": "stream",
     "text": [
      "Enter the name of cat 1:\n",
      "Enter the name of cat 2:\n",
      "Enter the name of cat 3:\n",
      "Enter the name of cat 4:\n",
      "Enter the name of cat 5:\n",
      "Enter the name of cat 6:\n",
      "The cat names are:\n",
      "dog cat jim saul mike walter\n"
     ]
    }
   ],
   "source": [
    "# Storing the names of cats in different variables is tedious.\n",
    "\n",
    "print('Enter the name of cat 1:')\n",
    "catName1 = input() # \n",
    "print('Enter the name of cat 2:')\n",
    "catName2 = input()\n",
    "print('Enter the name of cat 3:')\n",
    "catName3 = input()\n",
    "print('Enter the name of cat 4:')\n",
    "catName4 = input()\n",
    "print('Enter the name of cat 5:')\n",
    "catName5 = input()\n",
    "print('Enter the name of cat 6:')\n",
    "catName6 = input()\n",
    "print('The cat names are:')\n",
    "print(catName1 + ' ' + catName2 + ' ' + catName3 + ' ' + catName4 + ' ' +\n",
    "catName5 + ' ' + catName6)"
   ]
  },
  {
   "cell_type": "code",
   "execution_count": 579,
   "id": "4dfda715",
   "metadata": {},
   "outputs": [
    {
     "name": "stdout",
     "output_type": "stream",
     "text": [
      "Enter the name of cat 1 (Or enter nothing to stop.):\n",
      "Enter the name of cat 2 (Or enter nothing to stop.):\n",
      "Enter the name of cat 3 (Or enter nothing to stop.):\n",
      "Enter the name of cat 4 (Or enter nothing to stop.):\n",
      "Enter the name of cat 5 (Or enter nothing to stop.):\n",
      "Enter the name of cat 6 (Or enter nothing to stop.):\n",
      "The cat names are:\n",
      "  saul\n",
      "  jimmy\n",
      "  mike\n",
      "  walter\n",
      "  jesse\n"
     ]
    }
   ],
   "source": [
    "# Storing the names of cats in a list is much more efficient.\n",
    "\n",
    "catNames = []\n",
    "while True:\n",
    "    print('Enter the name of cat ' + str(len(catNames) + 1) +\n",
    "      ' (Or enter nothing to stop.):')\n",
    "    name = input()\n",
    "    if name == '':\n",
    "        break\n",
    "    catNames = catNames + [name]  # list concatenation\n",
    "print('The cat names are:')\n",
    "for name in catNames:\n",
    "    print('  ' + name)"
   ]
  },
  {
   "cell_type": "code",
   "execution_count": 580,
   "id": "465e9be5",
   "metadata": {},
   "outputs": [
    {
     "name": "stdout",
     "output_type": "stream",
     "text": [
      "0\n",
      "1\n",
      "2\n",
      "3\n"
     ]
    }
   ],
   "source": [
    "for i in range(4):\n",
    "    print(i)"
   ]
  },
  {
   "cell_type": "code",
   "execution_count": 581,
   "id": "f10e2bfc",
   "metadata": {},
   "outputs": [
    {
     "name": "stdout",
     "output_type": "stream",
     "text": [
      "0\n",
      "1\n",
      "2\n",
      "3\n"
     ]
    }
   ],
   "source": [
    "for i in [0, 1, 2, 3]:\n",
    "    print(i)"
   ]
  },
  {
   "cell_type": "code",
   "execution_count": 582,
   "id": "dce912b9",
   "metadata": {},
   "outputs": [
    {
     "name": "stdout",
     "output_type": "stream",
     "text": [
      "a\n",
      "b\n",
      "c\n",
      "d\n"
     ]
    }
   ],
   "source": [
    "for i in ['a', 'b', 'c', 'd']:\n",
    "    print(i)"
   ]
  },
  {
   "cell_type": "code",
   "execution_count": 583,
   "id": "fe455562",
   "metadata": {},
   "outputs": [
    {
     "name": "stdout",
     "output_type": "stream",
     "text": [
      "Index 0 in supplies is: pens\n",
      "Index 1 in supplies is: staplers\n",
      "Index 2 in supplies is: flamethrowers\n",
      "Index 3 in supplies is: binders\n"
     ]
    }
   ],
   "source": [
    "# printing the value and index of each item in a list\n",
    "\n",
    "supplies = ['pens', 'staplers', 'flamethrowers', 'binders']\n",
    "for i in range(len(supplies)):\n",
    "    print('Index ' + str(i) + ' in supplies is: ' + supplies[i])"
   ]
  },
  {
   "cell_type": "markdown",
   "id": "b0d12ee6",
   "metadata": {},
   "source": [
    "#### The `in` and `not` in Operators\n",
    "- You can determine whether a value is or isn’t in a list with the in and not in operators."
   ]
  },
  {
   "cell_type": "code",
   "execution_count": 584,
   "id": "3f9cb729",
   "metadata": {},
   "outputs": [
    {
     "data": {
      "text/plain": [
       "True"
      ]
     },
     "execution_count": 584,
     "metadata": {},
     "output_type": "execute_result"
    }
   ],
   "source": [
    "'howdy' in ['hello', 'hi', 'howdy', 'heyas']"
   ]
  },
  {
   "cell_type": "code",
   "execution_count": 585,
   "id": "c512cfcc",
   "metadata": {},
   "outputs": [
    {
     "data": {
      "text/plain": [
       "False"
      ]
     },
     "execution_count": 585,
     "metadata": {},
     "output_type": "execute_result"
    }
   ],
   "source": [
    "spam = ['hello', 'hi', 'howdy', 'heyas']\n",
    "'cat' in spam"
   ]
  },
  {
   "cell_type": "code",
   "execution_count": 586,
   "id": "40f92d28",
   "metadata": {},
   "outputs": [
    {
     "data": {
      "text/plain": [
       "False"
      ]
     },
     "execution_count": 586,
     "metadata": {},
     "output_type": "execute_result"
    }
   ],
   "source": [
    "'howdy' not in ['hello', 'hi', 'howdy', 'heyas']"
   ]
  },
  {
   "cell_type": "code",
   "execution_count": 587,
   "id": "049226d5",
   "metadata": {},
   "outputs": [
    {
     "data": {
      "text/plain": [
       "True"
      ]
     },
     "execution_count": 587,
     "metadata": {},
     "output_type": "execute_result"
    }
   ],
   "source": [
    "'cat' not in ['hello', 'hi', 'howdy', 'heyas']"
   ]
  },
  {
   "cell_type": "code",
   "execution_count": 588,
   "id": "7c1e9355",
   "metadata": {},
   "outputs": [
    {
     "name": "stdout",
     "output_type": "stream",
     "text": [
      "Enter a pet name:\n",
      "I do not have a pet named dog\n"
     ]
    }
   ],
   "source": [
    "# Determining if a name is in a list\n",
    "\n",
    "myPets = ['Zophie', 'Pooka', 'Fat-tail']\n",
    "print('Enter a pet name:')\n",
    "name = input()\n",
    "if name not in myPets:\n",
    "    print('I do not have a pet named ' + name)\n",
    "else:\n",
    "    print(name + ' is my pet.')"
   ]
  },
  {
   "cell_type": "markdown",
   "id": "ae6c0da5",
   "metadata": {},
   "source": [
    "<div class=\"alert alert-block alert-info\">\n",
    "<b>Shortcuts: The Multiple Assignment Trick (tuple unpacking)</b> \n",
    "\n",
    "</div>"
   ]
  },
  {
   "cell_type": "code",
   "execution_count": 589,
   "id": "ba8079e6",
   "metadata": {},
   "outputs": [
    {
     "name": "stdout",
     "output_type": "stream",
     "text": [
      "big gray loud\n"
     ]
    }
   ],
   "source": [
    "# If you did want a variable for every variable in the list, you could use the following code:\n",
    "cat = ['big', 'gray', 'loud']\n",
    "size = cat[0]\n",
    "color = cat[1]\n",
    "disposition = cat[2]\n",
    "\n",
    "print(size, color, disposition)"
   ]
  },
  {
   "cell_type": "code",
   "execution_count": 590,
   "id": "d5981585",
   "metadata": {},
   "outputs": [
    {
     "name": "stdout",
     "output_type": "stream",
     "text": [
      "big gray loud\n"
     ]
    }
   ],
   "source": [
    "# this code is equivalent to the code above\n",
    "\n",
    "cat = ['big', 'gray', 'loud']\n",
    "size, color, disposition = cat # multiple assignment\n",
    "\n",
    "print(size, color, disposition)"
   ]
  },
  {
   "cell_type": "code",
   "execution_count": 591,
   "id": "39e2b423",
   "metadata": {},
   "outputs": [
    {
     "ename": "ValueError",
     "evalue": "not enough values to unpack (expected 4, got 3)",
     "output_type": "error",
     "traceback": [
      "\u001b[1;31m---------------------------------------------------------------------------\u001b[0m",
      "\u001b[1;31mValueError\u001b[0m                                Traceback (most recent call last)",
      "\u001b[1;32mc:\\Users\\FZZN5B\\VS Code Projects\\python-course\\Chapter3&4.ipynb Cell 123\u001b[0m line \u001b[0;36m3\n\u001b[0;32m      <a href='vscode-notebook-cell:/c%3A/Users/FZZN5B/VS%20Code%20Projects/python-course/Chapter3%264.ipynb#Y553sZmlsZQ%3D%3D?line=0'>1</a>\u001b[0m \u001b[39m# The number of variables and the length of the list must be exactly equal\u001b[39;00m\n\u001b[0;32m      <a href='vscode-notebook-cell:/c%3A/Users/FZZN5B/VS%20Code%20Projects/python-course/Chapter3%264.ipynb#Y553sZmlsZQ%3D%3D?line=1'>2</a>\u001b[0m cat \u001b[39m=\u001b[39m [\u001b[39m'\u001b[39m\u001b[39mbig\u001b[39m\u001b[39m'\u001b[39m, \u001b[39m'\u001b[39m\u001b[39mgray\u001b[39m\u001b[39m'\u001b[39m, \u001b[39m'\u001b[39m\u001b[39mloud\u001b[39m\u001b[39m'\u001b[39m]\n\u001b[1;32m----> <a href='vscode-notebook-cell:/c%3A/Users/FZZN5B/VS%20Code%20Projects/python-course/Chapter3%264.ipynb#Y553sZmlsZQ%3D%3D?line=2'>3</a>\u001b[0m size, color, disposition, name \u001b[39m=\u001b[39m cat\n",
      "\u001b[1;31mValueError\u001b[0m: not enough values to unpack (expected 4, got 3)"
     ]
    }
   ],
   "source": [
    "# The number of variables and the length of the list must be exactly equal\n",
    "cat = ['big', 'gray', 'loud']\n",
    "size, color, disposition, name = cat"
   ]
  },
  {
   "cell_type": "markdown",
   "id": "1fea5e02",
   "metadata": {},
   "source": [
    "#### Using the `enumerate()` Function with Lists\n",
    "- Instead of using the `range(len(someList))` technique with a for loop to obtain the integer index of the items in the list, you can call the `enumerate()` function instead\n",
    "- The `enumerate()` function returns two values: the index of the item in the list, and the item in the list itself.\n"
   ]
  },
  {
   "cell_type": "code",
   "execution_count": 592,
   "id": "d85ec11d",
   "metadata": {},
   "outputs": [
    {
     "name": "stdout",
     "output_type": "stream",
     "text": [
      "Index 0 in supplies is: pens\n",
      "Index 1 in supplies is: staplers\n",
      "Index 2 in supplies is: flamethrowers\n",
      "Index 3 in supplies is: binders\n"
     ]
    }
   ],
   "source": [
    "# Knowing the index of an item in a list can be useful for modifying the list.\n",
    "\n",
    "supplies = ['pens', 'staplers', 'flamethrowers', 'binders']\n",
    "for index, item in enumerate(supplies): # the index comes first\n",
    "    print('Index ' + str(index) + ' in supplies is: ' + item)"
   ]
  },
  {
   "cell_type": "markdown",
   "id": "721a0a92",
   "metadata": {},
   "source": [
    "### Methods\n",
    "- A method is the same thing as a function, except it is “called on” a value. \n",
    "- Each data type has its own set of methods."
   ]
  },
  {
   "cell_type": "code",
   "execution_count": 593,
   "id": "946295f3",
   "metadata": {},
   "outputs": [
    {
     "data": {
      "text/plain": [
       "0"
      ]
     },
     "execution_count": 593,
     "metadata": {},
     "output_type": "execute_result"
    }
   ],
   "source": [
    "spam = ['hello', 'hi', 'howdy', 'heyas']\n",
    "# List values have an index() method that can be passed a value, and if that value exists in the list, the index of the value is returned.\n",
    "spam.index('hello')"
   ]
  },
  {
   "cell_type": "code",
   "execution_count": 594,
   "id": "8e0c08b2",
   "metadata": {},
   "outputs": [
    {
     "data": {
      "text/plain": [
       "3"
      ]
     },
     "execution_count": 594,
     "metadata": {},
     "output_type": "execute_result"
    }
   ],
   "source": [
    "spam.index('heyas')"
   ]
  },
  {
   "cell_type": "code",
   "execution_count": 595,
   "id": "e6080db6",
   "metadata": {},
   "outputs": [
    {
     "ename": "ValueError",
     "evalue": "'howdy howdy howdy' is not in list",
     "output_type": "error",
     "traceback": [
      "\u001b[1;31m---------------------------------------------------------------------------\u001b[0m",
      "\u001b[1;31mValueError\u001b[0m                                Traceback (most recent call last)",
      "\u001b[1;32mc:\\Users\\FZZN5B\\VS Code Projects\\python-course\\Chapter3&4.ipynb Cell 129\u001b[0m line \u001b[0;36m1\n\u001b[1;32m----> <a href='vscode-notebook-cell:/c%3A/Users/FZZN5B/VS%20Code%20Projects/python-course/Chapter3%264.ipynb#Y562sZmlsZQ%3D%3D?line=0'>1</a>\u001b[0m spam\u001b[39m.\u001b[39;49mindex(\u001b[39m'\u001b[39;49m\u001b[39mhowdy howdy howdy\u001b[39;49m\u001b[39m'\u001b[39;49m) \u001b[39m# not in the list\u001b[39;00m\n",
      "\u001b[1;31mValueError\u001b[0m: 'howdy howdy howdy' is not in list"
     ]
    }
   ],
   "source": [
    "spam.index('howdy howdy howdy') # not in the list"
   ]
  },
  {
   "cell_type": "code",
   "execution_count": 596,
   "id": "fbb9af8c",
   "metadata": {},
   "outputs": [
    {
     "data": {
      "text/plain": [
       "1"
      ]
     },
     "execution_count": 596,
     "metadata": {},
     "output_type": "execute_result"
    }
   ],
   "source": [
    "# When there are duplicates of the value in the list, the index of its first appearance is returned.\n",
    "\n",
    "spam = ['Zophie', 'Pooka', 'Fat-tail', 'Pooka']\n",
    "spam.index('Pooka') "
   ]
  },
  {
   "cell_type": "markdown",
   "id": "c035a82d",
   "metadata": {},
   "source": [
    "#### Adding Values to Lists with the append() and insert() Methods\n",
    "- To add new values to a list, use the `append()` and `insert()` methods."
   ]
  },
  {
   "cell_type": "code",
   "execution_count": 597,
   "id": "94ab622a",
   "metadata": {},
   "outputs": [
    {
     "data": {
      "text/plain": [
       "['cat', 'dog', 'bat', 'moose']"
      ]
     },
     "execution_count": 597,
     "metadata": {},
     "output_type": "execute_result"
    }
   ],
   "source": [
    "# append adds the argument to the end of the list\n",
    "\n",
    "spam = ['cat', 'dog', 'bat']\n",
    "spam.append('moose') # The append() method adds the argument to the end of the list.\n",
    "spam"
   ]
  },
  {
   "cell_type": "code",
   "execution_count": 598,
   "id": "488e44de",
   "metadata": {},
   "outputs": [
    {
     "data": {
      "text/plain": [
       "['cat', 'chicken', 'dog', 'bat']"
      ]
     },
     "execution_count": 598,
     "metadata": {},
     "output_type": "execute_result"
    }
   ],
   "source": [
    "# insert adds the argument at the index specified\n",
    "\n",
    "spam = ['cat', 'dog', 'bat']\n",
    "spam.insert(1, 'chicken') # The first argument for insert() is the index for the new value, and the second argument is the new value to be inserted.\n",
    "spam"
   ]
  },
  {
   "cell_type": "code",
   "execution_count": 599,
   "id": "5890cb7b",
   "metadata": {},
   "outputs": [],
   "source": [
    "spam = spam.insert(1, 'chicken') # The insert() method call evaluates to None, and the list is changed in place.\n",
    "spam"
   ]
  },
  {
   "cell_type": "code",
   "execution_count": 601,
   "id": "9b84f8bb",
   "metadata": {},
   "outputs": [
    {
     "ename": "AttributeError",
     "evalue": "'str' object has no attribute 'append'",
     "output_type": "error",
     "traceback": [
      "\u001b[1;31m---------------------------------------------------------------------------\u001b[0m",
      "\u001b[1;31mAttributeError\u001b[0m                            Traceback (most recent call last)",
      "\u001b[1;32mc:\\Users\\FZZN5B\\VS Code Projects\\python-course\\Chapter3&4.ipynb Cell 135\u001b[0m line \u001b[0;36m3\n\u001b[0;32m      <a href='vscode-notebook-cell:/c%3A/Users/FZZN5B/VS%20Code%20Projects/python-course/Chapter3%264.ipynb#Y601sZmlsZQ%3D%3D?line=0'>1</a>\u001b[0m \u001b[39m# The append() and insert() methods are list methods and can be called only on list values.\u001b[39;00m\n\u001b[0;32m      <a href='vscode-notebook-cell:/c%3A/Users/FZZN5B/VS%20Code%20Projects/python-course/Chapter3%264.ipynb#Y601sZmlsZQ%3D%3D?line=1'>2</a>\u001b[0m eggs \u001b[39m=\u001b[39m \u001b[39m'\u001b[39m\u001b[39mhello\u001b[39m\u001b[39m'\u001b[39m\n\u001b[1;32m----> <a href='vscode-notebook-cell:/c%3A/Users/FZZN5B/VS%20Code%20Projects/python-course/Chapter3%264.ipynb#Y601sZmlsZQ%3D%3D?line=2'>3</a>\u001b[0m eggs\u001b[39m.\u001b[39;49mappend(\u001b[39m'\u001b[39m\u001b[39mworld\u001b[39m\u001b[39m'\u001b[39m)\n",
      "\u001b[1;31mAttributeError\u001b[0m: 'str' object has no attribute 'append'"
     ]
    }
   ],
   "source": [
    "# The append() and insert() methods are list methods and can be called only on list values.\n",
    "eggs = 'hello'\n",
    "eggs.append('world')\n"
   ]
  },
  {
   "cell_type": "code",
   "execution_count": 602,
   "id": "6b6d63c2",
   "metadata": {},
   "outputs": [
    {
     "ename": "AttributeError",
     "evalue": "'int' object has no attribute 'insert'",
     "output_type": "error",
     "traceback": [
      "\u001b[1;31m---------------------------------------------------------------------------\u001b[0m",
      "\u001b[1;31mAttributeError\u001b[0m                            Traceback (most recent call last)",
      "\u001b[1;32mc:\\Users\\FZZN5B\\VS Code Projects\\python-course\\Chapter3&4.ipynb Cell 136\u001b[0m line \u001b[0;36m2\n\u001b[0;32m      <a href='vscode-notebook-cell:/c%3A/Users/FZZN5B/VS%20Code%20Projects/python-course/Chapter3%264.ipynb#Y602sZmlsZQ%3D%3D?line=0'>1</a>\u001b[0m bacon \u001b[39m=\u001b[39m \u001b[39m42\u001b[39m\n\u001b[1;32m----> <a href='vscode-notebook-cell:/c%3A/Users/FZZN5B/VS%20Code%20Projects/python-course/Chapter3%264.ipynb#Y602sZmlsZQ%3D%3D?line=1'>2</a>\u001b[0m bacon\u001b[39m.\u001b[39;49minsert(\u001b[39m1\u001b[39m, \u001b[39m'\u001b[39m\u001b[39mworld\u001b[39m\u001b[39m'\u001b[39m)\n",
      "\u001b[1;31mAttributeError\u001b[0m: 'int' object has no attribute 'insert'"
     ]
    }
   ],
   "source": [
    "bacon = 42\n",
    "bacon.insert(1, 'world')"
   ]
  },
  {
   "cell_type": "markdown",
   "id": "deb79736",
   "metadata": {},
   "source": [
    "#### Removing Values from Lists with the remove() Method\n",
    "- The `remove()` method is passed __the value__ to be removed from the list it is called on."
   ]
  },
  {
   "cell_type": "code",
   "execution_count": 603,
   "id": "9aa4a106",
   "metadata": {},
   "outputs": [
    {
     "data": {
      "text/plain": [
       "['cat', 'rat', 'elephant']"
      ]
     },
     "execution_count": 603,
     "metadata": {},
     "output_type": "execute_result"
    }
   ],
   "source": [
    "spam = ['cat', 'bat', 'rat', 'elephant']\n",
    "spam.remove('bat')\n",
    "spam"
   ]
  },
  {
   "cell_type": "code",
   "execution_count": 604,
   "id": "e3076a12",
   "metadata": {},
   "outputs": [
    {
     "ename": "ValueError",
     "evalue": "list.remove(x): x not in list",
     "output_type": "error",
     "traceback": [
      "\u001b[1;31m---------------------------------------------------------------------------\u001b[0m",
      "\u001b[1;31mValueError\u001b[0m                                Traceback (most recent call last)",
      "\u001b[1;32mc:\\Users\\FZZN5B\\VS Code Projects\\python-course\\Chapter3&4.ipynb Cell 139\u001b[0m line \u001b[0;36m2\n\u001b[0;32m      <a href='vscode-notebook-cell:/c%3A/Users/FZZN5B/VS%20Code%20Projects/python-course/Chapter3%264.ipynb#Y605sZmlsZQ%3D%3D?line=0'>1</a>\u001b[0m spam \u001b[39m=\u001b[39m [\u001b[39m'\u001b[39m\u001b[39mcat\u001b[39m\u001b[39m'\u001b[39m, \u001b[39m'\u001b[39m\u001b[39mbat\u001b[39m\u001b[39m'\u001b[39m, \u001b[39m'\u001b[39m\u001b[39mrat\u001b[39m\u001b[39m'\u001b[39m, \u001b[39m'\u001b[39m\u001b[39melephant\u001b[39m\u001b[39m'\u001b[39m]\n\u001b[1;32m----> <a href='vscode-notebook-cell:/c%3A/Users/FZZN5B/VS%20Code%20Projects/python-course/Chapter3%264.ipynb#Y605sZmlsZQ%3D%3D?line=1'>2</a>\u001b[0m spam\u001b[39m.\u001b[39;49mremove(\u001b[39m'\u001b[39;49m\u001b[39mchicken\u001b[39;49m\u001b[39m'\u001b[39;49m) \u001b[39m# chicken is not in the list\u001b[39;00m\n",
      "\u001b[1;31mValueError\u001b[0m: list.remove(x): x not in list"
     ]
    }
   ],
   "source": [
    "spam = ['cat', 'bat', 'rat', 'elephant']\n",
    "spam.remove('chicken') # chicken is not in the list"
   ]
  },
  {
   "cell_type": "code",
   "execution_count": 605,
   "id": "13fe4bce",
   "metadata": {},
   "outputs": [
    {
     "data": {
      "text/plain": [
       "['bat', 'rat', 'cat', 'hat', 'cat']"
      ]
     },
     "execution_count": 605,
     "metadata": {},
     "output_type": "execute_result"
    }
   ],
   "source": [
    "spam = ['cat', 'bat', 'rat', 'cat', 'hat', 'cat']\n",
    "spam.remove('cat') # Only the first appearance of 'cat' in the list will be removed.\n",
    "spam"
   ]
  },
  {
   "cell_type": "markdown",
   "id": "96a55892",
   "metadata": {},
   "source": [
    "<div class=\"alert alert-block alert-warning\">\n",
    "<b>del vs remove():</b> \n",
    "\n",
    "`del` is a keyword while `remove()` is a built in method. \n",
    "\n",
    "`del` takes in a list and index, while `remove()` removes the first matching value from a list\n",
    "\n",
    "</div>"
   ]
  },
  {
   "cell_type": "code",
   "execution_count": 606,
   "id": "10b11ae9",
   "metadata": {},
   "outputs": [
    {
     "data": {
      "text/plain": [
       "['cat', 'bat', 'elephant']"
      ]
     },
     "execution_count": 606,
     "metadata": {},
     "output_type": "execute_result"
    }
   ],
   "source": [
    "numbers = ['cat', 'bat', 'rat', 'elephant']\n",
    "del numbers[2]\n",
    "numbers"
   ]
  },
  {
   "cell_type": "code",
   "execution_count": 607,
   "id": "ed833e04",
   "metadata": {},
   "outputs": [
    {
     "data": {
      "text/plain": [
       "['cat', 'bat', 'elephant']"
      ]
     },
     "execution_count": 607,
     "metadata": {},
     "output_type": "execute_result"
    }
   ],
   "source": [
    "numbers = ['cat', 'bat', 'rat', 'elephant']\n",
    "numbers.remove('rat')\n",
    "numbers"
   ]
  },
  {
   "cell_type": "markdown",
   "id": "b7e454e1",
   "metadata": {},
   "source": [
    "#### Sorting the Values in a List with the sort() Method\n",
    "- Lists of number values or lists of strings can be sorted with the `sort()` method"
   ]
  },
  {
   "cell_type": "code",
   "execution_count": 608,
   "id": "9bbe7930",
   "metadata": {},
   "outputs": [
    {
     "data": {
      "text/plain": [
       "[-7, 1, 2, 3.14, 5]"
      ]
     },
     "execution_count": 608,
     "metadata": {},
     "output_type": "execute_result"
    }
   ],
   "source": [
    "spam = [2, 5, 3.14, 1, -7]\n",
    "spam.sort()\n",
    "spam"
   ]
  },
  {
   "cell_type": "code",
   "execution_count": 609,
   "id": "d62209a0",
   "metadata": {},
   "outputs": [
    {
     "data": {
      "text/plain": [
       "[5, 3.14, 2, 1, -7]"
      ]
     },
     "execution_count": 609,
     "metadata": {},
     "output_type": "execute_result"
    }
   ],
   "source": [
    "spam = [2, 5, 3.14, 1, -7]\n",
    "spam.sort(reverse=True) # keyword argument reverse=True sorts the list in reverse order.\n",
    "spam"
   ]
  },
  {
   "cell_type": "code",
   "execution_count": 610,
   "id": "c959f0c9",
   "metadata": {},
   "outputs": [
    {
     "data": {
      "text/plain": [
       "['ants', 'badgers', 'cats', 'dogs', 'elephants']"
      ]
     },
     "execution_count": 610,
     "metadata": {},
     "output_type": "execute_result"
    }
   ],
   "source": [
    "spam = ['ants', 'cats', 'dogs', 'badgers', 'elephants']\n",
    "spam.sort()\n",
    "spam"
   ]
  },
  {
   "cell_type": "code",
   "execution_count": 611,
   "id": "59306fb0",
   "metadata": {},
   "outputs": [],
   "source": [
    "spam = spam.sort() # The sort() method returns None, so you cannot assign spam.sort() to anything."
   ]
  },
  {
   "cell_type": "code",
   "execution_count": 612,
   "id": "43ec4cc1",
   "metadata": {},
   "outputs": [
    {
     "ename": "TypeError",
     "evalue": "'<' not supported between instances of 'str' and 'int'",
     "output_type": "error",
     "traceback": [
      "\u001b[1;31m---------------------------------------------------------------------------\u001b[0m",
      "\u001b[1;31mTypeError\u001b[0m                                 Traceback (most recent call last)",
      "\u001b[1;32mc:\\Users\\FZZN5B\\VS Code Projects\\python-course\\Chapter3&4.ipynb Cell 149\u001b[0m line \u001b[0;36m4\n\u001b[0;32m      <a href='vscode-notebook-cell:/c%3A/Users/FZZN5B/VS%20Code%20Projects/python-course/Chapter3%264.ipynb#Y622sZmlsZQ%3D%3D?line=0'>1</a>\u001b[0m \u001b[39m# The sort() method cannot sort lists with both number values and string values in them.\u001b[39;00m\n\u001b[0;32m      <a href='vscode-notebook-cell:/c%3A/Users/FZZN5B/VS%20Code%20Projects/python-course/Chapter3%264.ipynb#Y622sZmlsZQ%3D%3D?line=2'>3</a>\u001b[0m spam \u001b[39m=\u001b[39m [\u001b[39m1\u001b[39m, \u001b[39m3\u001b[39m, \u001b[39m2\u001b[39m, \u001b[39m4\u001b[39m, \u001b[39m'\u001b[39m\u001b[39mAlice\u001b[39m\u001b[39m'\u001b[39m, \u001b[39m'\u001b[39m\u001b[39mBob\u001b[39m\u001b[39m'\u001b[39m]\n\u001b[1;32m----> <a href='vscode-notebook-cell:/c%3A/Users/FZZN5B/VS%20Code%20Projects/python-course/Chapter3%264.ipynb#Y622sZmlsZQ%3D%3D?line=3'>4</a>\u001b[0m spam\u001b[39m.\u001b[39;49msort() \n",
      "\u001b[1;31mTypeError\u001b[0m: '<' not supported between instances of 'str' and 'int'"
     ]
    }
   ],
   "source": [
    "# The sort() method cannot sort lists with both number values and string values in them.\n",
    "\n",
    "spam = [1, 3, 2, 4, 'Alice', 'Bob']\n",
    "spam.sort() "
   ]
  },
  {
   "cell_type": "code",
   "execution_count": 613,
   "id": "c08d82c5",
   "metadata": {},
   "outputs": [
    {
     "data": {
      "text/plain": [
       "['Alice', 'Bob', 'Carol', 'ants', 'badgers', 'cats']"
      ]
     },
     "execution_count": 613,
     "metadata": {},
     "output_type": "execute_result"
    }
   ],
   "source": [
    "# The sort() method uses “ASCIIbetical order” rather than actual alphabetical order for sorting strings.\n",
    "\n",
    "spam = ['Alice', 'ants', 'Bob', 'badgers', 'Carol', 'cats']\n",
    "spam.sort()\n",
    "spam"
   ]
  },
  {
   "cell_type": "markdown",
   "id": "0aff4526",
   "metadata": {},
   "source": [
    "![Alt text](image-1.png)"
   ]
  },
  {
   "cell_type": "code",
   "execution_count": 614,
   "id": "a1601eae",
   "metadata": {},
   "outputs": [
    {
     "data": {
      "text/plain": [
       "['a', 'A', 'z', 'Z']"
      ]
     },
     "execution_count": 614,
     "metadata": {},
     "output_type": "execute_result"
    }
   ],
   "source": [
    "# Sorting can be done without ASCIIbetical order.\n",
    "\n",
    "spam = ['a', 'z', 'A', 'Z']\n",
    "spam.sort(key=str.lower) # The lower() string method returns a lowercase version of the string it is called on.\n",
    "spam"
   ]
  },
  {
   "cell_type": "code",
   "execution_count": 615,
   "id": "ea0362f7",
   "metadata": {},
   "outputs": [
    {
     "data": {
      "text/plain": [
       "['moose', 'dog', 'cat']"
      ]
     },
     "execution_count": 615,
     "metadata": {},
     "output_type": "execute_result"
    }
   ],
   "source": [
    "spam = ['cat', 'dog', 'moose']\n",
    "spam.reverse()\n",
    "spam"
   ]
  },
  {
   "cell_type": "markdown",
   "id": "4387ff17",
   "metadata": {},
   "source": [
    "<div class=\"alert alert-block alert-info\">\n",
    "<b>EXCEPTIONS TO INDENTATION RULES IN PYTHON</b> \n",
    "\n",
    "In most cases, the amount of indentation for a line of code tells Python what block it is in. There are some exceptions to this rule, however. For example, lists can actually span several lines in the source code file. The indentation of these lines does not matter; Python knows that the list is not finished until it sees the ending square bracket. For example, you can have code that looks like this:\n",
    "\n",
    "</div>"
   ]
  },
  {
   "cell_type": "code",
   "execution_count": 616,
   "id": "7f8ad52e",
   "metadata": {},
   "outputs": [
    {
     "data": {
      "text/plain": [
       "['apples', 'oranges', 'bananas', 'cats']"
      ]
     },
     "execution_count": 616,
     "metadata": {},
     "output_type": "execute_result"
    }
   ],
   "source": [
    "spam = ['apples',\n",
    "    'oranges',\n",
    "                    'bananas',\n",
    "'cats']\n",
    "spam"
   ]
  },
  {
   "cell_type": "code",
   "execution_count": 617,
   "id": "51e5b94f",
   "metadata": {},
   "outputs": [
    {
     "name": "stdout",
     "output_type": "stream",
     "text": [
      "Four score and seven years ago...\n"
     ]
    }
   ],
   "source": [
    "print('Four score and seven ' + \\\n",
    "                            'years ago...')"
   ]
  },
  {
   "cell_type": "code",
   "execution_count": 618,
   "id": "dc61e6d9",
   "metadata": {},
   "outputs": [
    {
     "name": "stdout",
     "output_type": "stream",
     "text": [
      "Yes definitely\n"
     ]
    }
   ],
   "source": [
    "# The magic 8 ball program can be done with a list instead of if/elif statements.\n",
    "\n",
    "import random\n",
    "\n",
    "messages = ['It is certain',\n",
    "    'It is decidedly so',\n",
    "    'Yes definitely',\n",
    "    'Reply hazy try again',\n",
    "    'Ask again later',\n",
    "    'Concentrate and ask again',\n",
    "    'My reply is no',\n",
    "    'Outlook not so good',\n",
    "    'Very doubtful']\n",
    "\n",
    "print(messages[random.randint(0, len(messages) - 1)]) # Displays a random value in the messages list."
   ]
  },
  {
   "cell_type": "markdown",
   "id": "28ff8201",
   "metadata": {},
   "source": [
    "#### Mutable and Immutable Data Types\n",
    "- __Mutable__ data type: it can have values added, removed, or changed.\n",
    "- __Immutable__ data type: it cannot be changed.\n",
    "- Strings have many of the properties of lists, but are mutable rather than immutable."
   ]
  },
  {
   "cell_type": "code",
   "execution_count": 619,
   "id": "5cb289c6",
   "metadata": {},
   "outputs": [],
   "source": [
    "name = 'dog'"
   ]
  },
  {
   "cell_type": "code",
   "execution_count": 620,
   "id": "8bb9600b",
   "metadata": {},
   "outputs": [
    {
     "data": {
      "text/plain": [
       "3"
      ]
     },
     "execution_count": 620,
     "metadata": {},
     "output_type": "execute_result"
    }
   ],
   "source": [
    "len(name) # Just like lists, strings have a len() function, indexes, slices, and more."
   ]
  },
  {
   "cell_type": "code",
   "execution_count": 621,
   "id": "686c0f7e",
   "metadata": {},
   "outputs": [
    {
     "data": {
      "text/plain": [
       "'d'"
      ]
     },
     "execution_count": 621,
     "metadata": {},
     "output_type": "execute_result"
    }
   ],
   "source": [
    "name[0] "
   ]
  },
  {
   "cell_type": "code",
   "execution_count": 622,
   "id": "a4652909",
   "metadata": {},
   "outputs": [
    {
     "data": {
      "text/plain": [
       "True"
      ]
     },
     "execution_count": 622,
     "metadata": {},
     "output_type": "execute_result"
    }
   ],
   "source": [
    "'do' in name "
   ]
  },
  {
   "cell_type": "code",
   "execution_count": 623,
   "id": "ce821c32",
   "metadata": {},
   "outputs": [
    {
     "data": {
      "text/plain": [
       "False"
      ]
     },
     "execution_count": 623,
     "metadata": {},
     "output_type": "execute_result"
    }
   ],
   "source": [
    "'ca' in name"
   ]
  },
  {
   "cell_type": "code",
   "execution_count": 624,
   "id": "f084a029",
   "metadata": {},
   "outputs": [
    {
     "ename": "TypeError",
     "evalue": "'str' object does not support item assignment",
     "output_type": "error",
     "traceback": [
      "\u001b[1;31m---------------------------------------------------------------------------\u001b[0m",
      "\u001b[1;31mTypeError\u001b[0m                                 Traceback (most recent call last)",
      "\u001b[1;32mc:\\Users\\FZZN5B\\VS Code Projects\\python-course\\Chapter3&4.ipynb Cell 164\u001b[0m line \u001b[0;36m1\n\u001b[1;32m----> <a href='vscode-notebook-cell:/c%3A/Users/FZZN5B/VS%20Code%20Projects/python-course/Chapter3%264.ipynb#Y642sZmlsZQ%3D%3D?line=0'>1</a>\u001b[0m name[\u001b[39m2\u001b[39;49m] \u001b[39m=\u001b[39m \u001b[39m'\u001b[39m\u001b[39mc\u001b[39m\u001b[39m'\u001b[39m \u001b[39m# strings are immutable\u001b[39;00m\n",
      "\u001b[1;31mTypeError\u001b[0m: 'str' object does not support item assignment"
     ]
    }
   ],
   "source": [
    "name[2] = 'c' # strings are immutable"
   ]
  },
  {
   "cell_type": "markdown",
   "id": "22992555",
   "metadata": {},
   "source": [
    "***\n",
    "Lists, dictionaries, and sets are instances of mutable objects, while numbers, strings, and tuples are instances of immutable objects.\n",
    "***"
   ]
  },
  {
   "cell_type": "markdown",
   "id": "9bfcb382",
   "metadata": {},
   "source": [
    "#### The Tuple Data Type\n",
    "- The `tuple` data type is very similar to the list data type. \n",
    "- Typed with parenthesis instead of square brackets.\n",
    "- Tuples are immutable."
   ]
  },
  {
   "cell_type": "code",
   "execution_count": 625,
   "id": "f3da7e3d",
   "metadata": {},
   "outputs": [
    {
     "data": {
      "text/plain": [
       "'hello'"
      ]
     },
     "execution_count": 625,
     "metadata": {},
     "output_type": "execute_result"
    }
   ],
   "source": [
    "eggs = ('hello', 42, 0.5)\n",
    "eggs[0]"
   ]
  },
  {
   "cell_type": "code",
   "execution_count": 626,
   "id": "ec366b17",
   "metadata": {},
   "outputs": [
    {
     "name": "stdout",
     "output_type": "stream",
     "text": [
      "(42, 0.5)\n",
      "3\n"
     ]
    }
   ],
   "source": [
    "print(eggs[1:3])\n",
    "print(len(eggs))"
   ]
  },
  {
   "cell_type": "code",
   "execution_count": 627,
   "id": "e52deadc",
   "metadata": {},
   "outputs": [
    {
     "ename": "TypeError",
     "evalue": "'tuple' object does not support item assignment",
     "output_type": "error",
     "traceback": [
      "\u001b[1;31m---------------------------------------------------------------------------\u001b[0m",
      "\u001b[1;31mTypeError\u001b[0m                                 Traceback (most recent call last)",
      "\u001b[1;32mc:\\Users\\FZZN5B\\VS Code Projects\\python-course\\Chapter3&4.ipynb Cell 169\u001b[0m line \u001b[0;36m2\n\u001b[0;32m      <a href='vscode-notebook-cell:/c%3A/Users/FZZN5B/VS%20Code%20Projects/python-course/Chapter3%264.ipynb#Y646sZmlsZQ%3D%3D?line=0'>1</a>\u001b[0m eggs \u001b[39m=\u001b[39m (\u001b[39m'\u001b[39m\u001b[39mhello\u001b[39m\u001b[39m'\u001b[39m, \u001b[39m42\u001b[39m, \u001b[39m0.5\u001b[39m)\n\u001b[1;32m----> <a href='vscode-notebook-cell:/c%3A/Users/FZZN5B/VS%20Code%20Projects/python-course/Chapter3%264.ipynb#Y646sZmlsZQ%3D%3D?line=1'>2</a>\u001b[0m eggs[\u001b[39m1\u001b[39;49m] \u001b[39m=\u001b[39m \u001b[39m99\u001b[39m \u001b[39m# tuples are immutable\u001b[39;00m\n",
      "\u001b[1;31mTypeError\u001b[0m: 'tuple' object does not support item assignment"
     ]
    }
   ],
   "source": [
    "eggs = ('hello', 42, 0.5)\n",
    "eggs[1] = 99 # tuples are immutable"
   ]
  },
  {
   "cell_type": "code",
   "execution_count": 628,
   "id": "2b541d72",
   "metadata": {},
   "outputs": [
    {
     "data": {
      "text/plain": [
       "('cat', 'dog', 5)"
      ]
     },
     "execution_count": 628,
     "metadata": {},
     "output_type": "execute_result"
    }
   ],
   "source": [
    "tuple(['cat', 'dog', 5]) # convert a list to a tuple"
   ]
  },
  {
   "cell_type": "code",
   "execution_count": 629,
   "id": "33bb81f1",
   "metadata": {},
   "outputs": [
    {
     "data": {
      "text/plain": [
       "['cat', 'dog', 5]"
      ]
     },
     "execution_count": 629,
     "metadata": {},
     "output_type": "execute_result"
    }
   ],
   "source": [
    "list(('cat', 'dog', 5)) # convert a tuple to a list"
   ]
  },
  {
   "cell_type": "code",
   "execution_count": 630,
   "id": "cea58971",
   "metadata": {},
   "outputs": [
    {
     "data": {
      "text/plain": [
       "['h', 'e', 'l', 'l', 'o']"
      ]
     },
     "execution_count": 630,
     "metadata": {},
     "output_type": "execute_result"
    }
   ],
   "source": [
    "list('hello') # convert a string to a list"
   ]
  },
  {
   "cell_type": "markdown",
   "id": "8e26102b",
   "metadata": {},
   "source": [
    "#### Benefits of Tuples\n",
    "- Tuples convey that you do not intend for the sequence of values to change.\n",
    "- Safer to use in situations where you want to ensure that the data cannot be modified accidentally or maliciously\n",
    "- Python can implement some optimizations that make code using tuples slightly faster than code using lists. "
   ]
  },
  {
   "cell_type": "markdown",
   "id": "1b77ca2c",
   "metadata": {},
   "source": [
    "#### References\n",
    "- Technically, variables are storing references to the computer memory locations where the values are stored.\n",
    "\n"
   ]
  },
  {
   "cell_type": "code",
   "execution_count": 631,
   "id": "351929d5",
   "metadata": {},
   "outputs": [
    {
     "name": "stdout",
     "output_type": "stream",
     "text": [
      "100\n",
      "42\n"
     ]
    }
   ],
   "source": [
    "spam = 42 # integer 42 is stored in memory, spam is reference to this integer.\n",
    "cheese = spam # cheese now points to the same memory location where the value 42 is stored.\n",
    "spam = 100 # integer 100 is stored in memory, spam is reference to this integer.\n",
    "print(spam)\n",
    "print(cheese)"
   ]
  },
  {
   "cell_type": "markdown",
   "id": "9b0a5a3b",
   "metadata": {},
   "source": [
    "***\n",
    "Changing the `spam` variable is actually making it refer to a completely different value in memory.\n",
    "***"
   ]
  },
  {
   "cell_type": "code",
   "execution_count": 632,
   "id": "88104d7b",
   "metadata": {},
   "outputs": [
    {
     "data": {
      "text/plain": [
       "6"
      ]
     },
     "execution_count": 632,
     "metadata": {},
     "output_type": "execute_result"
    }
   ],
   "source": [
    "# Integer objects are immutable, so there is no way for an integer variable to change in place. Behind the scenes, Python actually creates a new object, with the modified value rather than changing the original one.\n",
    "\n",
    "x = 5  # x is an integer (immutable)\n",
    "x += 1  # This doesn't modify the existing integer, it creates a new one and makes x refer to it.\n",
    "x"
   ]
  },
  {
   "cell_type": "code",
   "execution_count": 633,
   "id": "0d714b75",
   "metadata": {},
   "outputs": [
    {
     "name": "stdout",
     "output_type": "stream",
     "text": [
      "[0, 'Hello!', 2, 3, 4, 5]\n",
      "[0, 'Hello!', 2, 3, 4, 5]\n"
     ]
    }
   ],
   "source": [
    "# Lists are mutable, so when you assign a list to a variable, a reference to the list is actually being assigned to the variable. This can cause some confusion when you modify the list.\n",
    "\n",
    "spam = [0, 1, 2, 3, 4, 5]\n",
    "cheese = spam # The reference is being copied, not the list.\n",
    "cheese[1] = 'Hello!' # This changes the list value. All variables that refer to this list will see the change.\n",
    "print(spam)\n",
    "print(cheese) "
   ]
  },
  {
   "cell_type": "markdown",
   "id": "c3e2593e",
   "metadata": {},
   "source": [
    "***\n",
    "When you create the list, the reference to it is stored in the `spam` variable. When cheese is set equal to spam, the reference is copied rather than the list value itself. Both variables are pointing to the same list stored in memory. This memory location that both variables are referencing can change.\n",
    "***"
   ]
  },
  {
   "attachments": {
    "image-2.png": {
     "image/png": "[encoded data removed]"
    },
    "image-3.png": {
     "image/png": "[encoded data removed]"
    },
    "image.png": {
     "image/png": "[encoded data removed]"
    }
   },
   "cell_type": "markdown",
   "id": "50501421",
   "metadata": {},
   "source": [
    "![image.png](attachment:image.png)\n",
    "\n",
    "![image-2.png](attachment:image-2.png)\n",
    "\n",
    "Both variables share the reference to the list\n",
    "\n",
    "![image-3.png](attachment:image-3.png)"
   ]
  },
  {
   "cell_type": "markdown",
   "id": "3b225710",
   "metadata": {},
   "source": [
    "#### Identity and the `id()` Function\n",
    "- The python `id()` function returns a unique identifier of on object stored in memory."
   ]
  },
  {
   "cell_type": "code",
   "execution_count": 634,
   "id": "8b12e9db",
   "metadata": {},
   "outputs": [
    {
     "data": {
      "text/plain": [
       "1831827056496"
      ]
     },
     "execution_count": 634,
     "metadata": {},
     "output_type": "execute_result"
    }
   ],
   "source": [
    "spam = 'Hello'\n",
    "id(spam)"
   ]
  },
  {
   "cell_type": "code",
   "execution_count": 635,
   "id": "9ca711dc",
   "metadata": {},
   "outputs": [
    {
     "data": {
      "text/plain": [
       "1831829654192"
      ]
     },
     "execution_count": 635,
     "metadata": {},
     "output_type": "execute_result"
    }
   ],
   "source": [
    "spam += ' world!' # A new string is made from 'Hello' and ' world!'.\n",
    "id(spam) # bacon now refers to a completely different string."
   ]
  },
  {
   "cell_type": "code",
   "execution_count": 636,
   "id": "06a49371",
   "metadata": {},
   "outputs": [
    {
     "data": {
      "text/plain": [
       "1831830266304"
      ]
     },
     "execution_count": 636,
     "metadata": {},
     "output_type": "execute_result"
    }
   ],
   "source": [
    "animals = ['cat', 'dog'] # This creates a new list.\n",
    "id(animals)"
   ]
  },
  {
   "cell_type": "code",
   "execution_count": 637,
   "id": "04e125b5",
   "metadata": {},
   "outputs": [
    {
     "data": {
      "text/plain": [
       "1831830266304"
      ]
     },
     "execution_count": 637,
     "metadata": {},
     "output_type": "execute_result"
    }
   ],
   "source": [
    "animals.append('moose') # append() modifies the list \"in place\".\n",
    "id(animals) # animals still refers to the same list as before."
   ]
  },
  {
   "cell_type": "code",
   "execution_count": 638,
   "id": "8fe6e316",
   "metadata": {},
   "outputs": [
    {
     "data": {
      "text/plain": [
       "1831827519744"
      ]
     },
     "execution_count": 638,
     "metadata": {},
     "output_type": "execute_result"
    }
   ],
   "source": [
    "animals = ['bat', 'rat', 'cow'] # This creates a new list, which has a new identity.\n",
    "id(animals) # eggs now refers to a completely different list."
   ]
  },
  {
   "cell_type": "markdown",
   "id": "cc826a3c",
   "metadata": {},
   "source": [
    "#### Passing References\n",
    "- When a function is called, the values of the arguments are copied to the parameter variables.\n"
   ]
  },
  {
   "cell_type": "code",
   "execution_count": 639,
   "id": "3acd491d",
   "metadata": {},
   "outputs": [
    {
     "name": "stdout",
     "output_type": "stream",
     "text": [
      "[1, 2, 3, 'Hello']\n"
     ]
    }
   ],
   "source": [
    "def eggs(someParameter):\n",
    "    someParameter.append('Hello')\n",
    "\n",
    "spam = [1, 2, 3]\n",
    "eggs(spam)\n",
    "print(spam)"
   ]
  },
  {
   "cell_type": "markdown",
   "id": "2b30ab9f",
   "metadata": {},
   "source": [
    "<div class=\"alert alert-block alert-warning\">\n",
    "<b>Forgetting that Python handles list variables this way can lead to confusing bugs.</b> \n",
    "</div>"
   ]
  },
  {
   "cell_type": "markdown",
   "id": "2da3dff7",
   "metadata": {},
   "source": [
    "#### The copy Module’s `copy()` and `deepcopy()` Functions\n",
    "- If the function modifies the list or dictionary that is passed, you may not want these changes in the original list or dictionary value. \n",
    "- `copy.copy()` can be used to make a duplicate copy of a mutable value like a list or dictionary, not just a copy of a reference.\n",
    "- If the list you need to copy contains lists, then use the `copy.deepcopy()` function instead of `copy.copy()`. `The deepcopy()` function will copy these inner lists as well."
   ]
  },
  {
   "cell_type": "markdown",
   "id": "838b2a42",
   "metadata": {},
   "source": [
    "what is copy, and what is .copy()\n",
    "how can you enforce a type in python \n",
    "list comphrehension "
   ]
  },
  {
   "cell_type": "code",
   "execution_count": 640,
   "id": "db80a5d2",
   "metadata": {},
   "outputs": [
    {
     "data": {
      "text/plain": [
       "1833949093440"
      ]
     },
     "execution_count": 640,
     "metadata": {},
     "output_type": "execute_result"
    }
   ],
   "source": [
    "import copy\n",
    "spam = ['A', 'B', 'C', 'D']\n",
    "id(spam)"
   ]
  },
  {
   "cell_type": "code",
   "execution_count": 641,
   "id": "0edac1a0",
   "metadata": {},
   "outputs": [
    {
     "data": {
      "text/plain": [
       "1831823469056"
      ]
     },
     "execution_count": 641,
     "metadata": {},
     "output_type": "execute_result"
    }
   ],
   "source": [
    "cheese = copy.copy(spam)\n",
    "id(cheese) # cheese is a different list with different identity."
   ]
  },
  {
   "cell_type": "code",
   "execution_count": 642,
   "id": "8c6e9e55",
   "metadata": {},
   "outputs": [
    {
     "data": {
      "text/plain": [
       "['A', 42, 'C', 'D']"
      ]
     },
     "execution_count": 642,
     "metadata": {},
     "output_type": "execute_result"
    }
   ],
   "source": [
    "cheese[1] = 42\n",
    "cheese"
   ]
  },
  {
   "cell_type": "code",
   "execution_count": 643,
   "id": "dbf3c243",
   "metadata": {},
   "outputs": [
    {
     "data": {
      "text/plain": [
       "['A', 'B', 'C', 'D']"
      ]
     },
     "execution_count": 643,
     "metadata": {},
     "output_type": "execute_result"
    }
   ],
   "source": [
    "spam # spam is unchanged."
   ]
  },
  {
   "cell_type": "code",
   "execution_count": 644,
   "id": "4bdd433d",
   "metadata": {},
   "outputs": [
    {
     "data": {
      "text/plain": [
       "[[1, 2, 3], [4, 5, 6], [7, 8, 9]]"
      ]
     },
     "execution_count": 644,
     "metadata": {},
     "output_type": "execute_result"
    }
   ],
   "source": [
    "first_list = [[1, 2, 3], [4, 5, 6], [7, 8, 9]]\n",
    "second_list = copy.copy(first_list)\n",
    "second_list"
   ]
  },
  {
   "cell_type": "code",
   "execution_count": 645,
   "id": "b955a572",
   "metadata": {},
   "outputs": [
    {
     "data": {
      "text/plain": [
       "[[1, 2, 3], ['X', 5, 6], [7, 8, 9]]"
      ]
     },
     "execution_count": 645,
     "metadata": {},
     "output_type": "execute_result"
    }
   ],
   "source": [
    "first_list[1][0] = 'X' # The copy.copy() function will not copy inner lists.\n",
    "second_list # The inner lists are still references to the same list values as in first_list."
   ]
  },
  {
   "cell_type": "code",
   "execution_count": 646,
   "id": "ef76a7b2",
   "metadata": {},
   "outputs": [
    {
     "data": {
      "text/plain": [
       "[[1, 2, 3], [4, 5, 6], [7, 8, 9]]"
      ]
     },
     "execution_count": 646,
     "metadata": {},
     "output_type": "execute_result"
    }
   ],
   "source": [
    "first_list = [[1, 2, 3], [4, 5, 6], [7, 8, 9]]\n",
    "second_list = copy.deepcopy(first_list) # The copy.deepcopy() function will copy inner lists.\n",
    "\n",
    "first_list[1][0] = 'X'\n",
    "second_list # The changes to first_list do not affect second_list."
   ]
  },
  {
   "cell_type": "markdown",
   "id": "1ea7bfcf",
   "metadata": {},
   "source": [
    "### Mutability vs Immutability Summary\n",
    "- Lists are a sequence data type that is mutable, meaning that their contents can change.\n",
    "- Tuples and strings, though also sequence data types, are immutable and cannot be changed.\n",
    "- Variables do not store list values directly; they store references to lists.\n",
    "- You can use `copy()` or `deepcopy()` if you want to make changes to a list in one variable without modifying the original list."
   ]
  }
 ],
 "metadata": {
  "kernelspec": {
   "display_name": "Python - Spark 3.0.1",
   "language": "python",
   "name": "python3"
  },
  "language_info": {
   "codemirror_mode": {
    "name": "ipython",
    "version": 3
   },
   "file_extension": ".py",
   "mimetype": "text/x-python",
   "name": "python",
   "nbconvert_exporter": "python",
   "pygments_lexer": "ipython3",
   "version": "3.10.6"
  }
 },
 "nbformat": 4,
 "nbformat_minor": 5
}
