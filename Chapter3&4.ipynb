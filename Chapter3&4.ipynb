{
 "cells": [
  {
   "cell_type": "markdown",
   "id": "8d2b3cd0",
   "metadata": {},
   "source": [
    "# Review\n",
    "\n",
    "From the previous chapters, you may recall that python has its own built in functions. "
   ]
  },
  {
   "cell_type": "code",
   "execution_count": 4,
   "id": "d35f1827",
   "metadata": {},
   "outputs": [
    {
     "name": "stdout",
     "output_type": "stream",
     "text": [
      "Hello World!\n"
     ]
    }
   ],
   "source": [
    "# The following example displays \"Hello World!\" onto the screen with the print() function.\n",
    "\n",
    "print(\"Hello World!\")"
   ]
  },
  {
   "cell_type": "code",
   "execution_count": 3,
   "id": "564aa7b3",
   "metadata": {},
   "outputs": [
    {
     "name": "stdout",
     "output_type": "stream",
     "text": [
      "yo\n"
     ]
    }
   ],
   "source": [
    "# The following example takes in a user input and displays it back to the user. \n",
    "\n",
    "user_input = input(\"Enter something to display: \") # The input() function takes in a user input and stores it in the variable user_input.\n",
    "print(user_input) # The print() function displays the user input back to the user."
   ]
  },
  {
   "cell_type": "markdown",
   "id": "9ded5acd-0250-4ad2-a947-b3185632543b",
   "metadata": {},
   "source": [
    "# Chapter 3: Functions\n",
    "Python provides built-in functions, but you can also write your own functions. \n",
    "### What is a function?\n",
    "- A function is like a mini-program within a program.\n",
    "\n",
    "- Functions are a way to organize code that performs a specific task.\n",
    "\n",
    "#### What are the benefits of using functions?\n",
    "- __Reusability__: A function can be used multiple times throughout the program to avoid rewriting the same code. \n",
    "\n",
    "- __Readability__: Meaningful function names make it easier to understand the purpose of the code. Functions allow you to focus on what the function accomplished rather than how it is implemented. \n",
    "\n",
    "- __Maintainability__: Functions make it easier to locate and fix bugs throughout the program."
   ]
  },
  {
   "cell_type": "code",
   "execution_count": 12,
   "id": "3177bb08-e1c5-46cd-a264-110dfd458e8d",
   "metadata": {},
   "outputs": [
    {
     "name": "stdout",
     "output_type": "stream",
     "text": [
      "Hello\n",
      "My name is...\n",
      "Nice to meet you!\n",
      "Hello\n",
      "My name is...\n",
      "Nice to meet you!\n",
      "Hello\n",
      "My name is...\n",
      "Nice to meet you!\n"
     ]
    }
   ],
   "source": [
    "def hello(): # def is used to define a function. The function name is hello.\n",
    "    print('Hello') # The body of the function is indented.\n",
    "    print('My name is...')\n",
    "    print('Nice to meet you!')\n",
    "\n",
    "hello() # This is how you call a function. The function name is followed by parentheses.\n",
    "hello() # All of the code inside the function is executed before the function is called again.\n",
    "hello() # You can call a function as many times as you want."
   ]
  },
  {
   "cell_type": "markdown",
   "id": "7df98b55",
   "metadata": {},
   "source": [
    "***\n",
    "A major purpose of functions is to group code that gets executed multiple times. Without a function defined, you would have to copy and paste this code each time, and the program would look like this:\n",
    "***"
   ]
  },
  {
   "cell_type": "code",
   "execution_count": 10,
   "id": "b87f2918",
   "metadata": {},
   "outputs": [
    {
     "name": "stdout",
     "output_type": "stream",
     "text": [
      "Hello\n",
      "My name is...\n",
      "Nice to meet you!\n",
      "Hello\n",
      "My name is...\n",
      "Nice to meet you!\n",
      "Hello\n",
      "My name is...\n",
      "Nice to meet you!\n"
     ]
    }
   ],
   "source": [
    "print('Hello') \n",
    "print('My name is...')\n",
    "print('Nice to meet you!')\n",
    "print('Hello') \n",
    "print('My name is...')\n",
    "print('Nice to meet you!')\n",
    "print('Hello') \n",
    "print('My name is...')\n",
    "print('Nice to meet you!')"
   ]
  },
  {
   "cell_type": "markdown",
   "id": "5e4dfe64",
   "metadata": {},
   "source": [
    "***\n",
    "In general, we want to avoid code duplication to make programs shorter, easier to read, and easier to update\n",
    "***"
   ]
  },
  {
   "cell_type": "markdown",
   "id": "47fc4a59",
   "metadata": {},
   "source": [
    "#### Functions With Parameters\n",
    "- When you call the `print()` function, you pass in values between the parenthesis called __arguments__.\n",
    "- You can define your own functions to accept arguments."
   ]
  },
  {
   "cell_type": "code",
   "execution_count": 15,
   "id": "e066058e",
   "metadata": {},
   "outputs": [
    {
     "name": "stdout",
     "output_type": "stream",
     "text": [
      "Hello, Alice\n",
      "Hello, Bob\n"
     ]
    }
   ],
   "source": [
    "def hello(name): # The function hello() has a parameter called name.\n",
    "    print('Hello, ' + name)\n",
    "\n",
    "hello('Alice') # The function hello() is called with the argument 'Alice'.\n",
    "hello('Bob')"
   ]
  },
  {
   "cell_type": "markdown",
   "id": "93f47f22",
   "metadata": {},
   "source": [
    "<div class=\"alert alert-block alert-info\">\n",
    "<b>Arguments vs Parameters:</b> Function parameters are the names listed in the function's definition. Function arguments are the real values passed to the function. \n",
    "\n",
    "In the function above, __name__ is a parameter, and __Alice & Bob__ are arguments.\n",
    "</div>"
   ]
  },
  {
   "cell_type": "markdown",
   "id": "b8e9fd43",
   "metadata": {},
   "source": [
    "#### Return Values and return Statements\n",
    "- A `return` statement gives back the results of a function and goes back to where the function was called. \n",
    "- When creating a function using the def statement, you can specify what the return value should be with a return statement. A return statement consists of the following:\n",
    "    - The `return` keyword\n",
    "    - The value or expression that the function should return\n",
    "- When an expression is used with a return statement, the return value is what this expression evaluates to."
   ]
  },
  {
   "cell_type": "code",
   "execution_count": 19,
   "id": "011845d2",
   "metadata": {},
   "outputs": [
    {
     "name": "stdout",
     "output_type": "stream",
     "text": [
      "My reply is no\n"
     ]
    }
   ],
   "source": [
    "import random # The import statement imports a module. The random module contains functions that generate random numbers.\n",
    "\n",
    "def getAnswer(answerNumber): \n",
    "    if answerNumber == 1: \n",
    "        return 'It is certain' # Depending on the value in answerNumber, the function returns one of many possible string values.\n",
    "    elif answerNumber == 2:\n",
    "        return 'It is decidedly so'\n",
    "    elif answerNumber == 3:\n",
    "        return 'Yes'\n",
    "    elif answerNumber == 4:\n",
    "        return 'Reply hazy try again'\n",
    "    elif answerNumber == 5:\n",
    "        return 'Ask again later'\n",
    "    elif answerNumber == 6:\n",
    "        return 'Concentrate and ask again'\n",
    "    elif answerNumber == 7:\n",
    "        return 'My reply is no'\n",
    "    elif answerNumber == 8:\n",
    "        return 'Outlook not so good'\n",
    "    elif answerNumber == 9:\n",
    "        return 'Very doubtful'\n",
    "\n",
    "random_integer = random.randint(1, 9) # random.randint() returns a random integer between the two arguments.\n",
    "fortune = getAnswer(random_integer) # fortune is assigned the return value of getAnswer().\n",
    "print(fortune)"
   ]
  },
  {
   "cell_type": "code",
   "execution_count": 23,
   "id": "19e6bdc9",
   "metadata": {},
   "outputs": [
    {
     "name": "stdout",
     "output_type": "stream",
     "text": [
      "My reply is no\n"
     ]
    }
   ],
   "source": [
    "print(getAnswer(random.randint(1, 9))) # The single line of code is equivalent to the three lines of code above it."
   ]
  },
  {
   "cell_type": "markdown",
   "id": "98820aba",
   "metadata": {},
   "source": [
    "#### The None Value\n",
    "- All functions calls need to evaluate to a return value, but what if there is nothing you wish to return?\n",
    "- In Python, there is a value called `None`, which represents the absence of a value. \n",
    "    - Other programming languages might call this value null, nil, or undefined.\n",
    "    - Just like the Boolean `True` and `False` values, `None` __must be typed__ with a capital N.\n",
    "- Behind the scenes, Python adds `return None` to the end of any function definition with no return statement."
   ]
  },
  {
   "cell_type": "code",
   "execution_count": 1,
   "id": "ed4c30fd",
   "metadata": {},
   "outputs": [
    {
     "name": "stdout",
     "output_type": "stream",
     "text": [
      "Hello!\n"
     ]
    },
    {
     "data": {
      "text/plain": [
       "True"
      ]
     },
     "execution_count": 1,
     "metadata": {},
     "output_type": "execute_result"
    }
   ],
   "source": [
    "spam = print('Hello!') # The print() function returns None.\n",
    "None == spam"
   ]
  },
  {
   "cell_type": "markdown",
   "id": "7bd2d53a",
   "metadata": {},
   "source": [
    "#### Keyword Arguments\n",
    "- Keyword arguments are a way to pass arguments to a function by explicitly specifying the parameter names along with their values."
   ]
  },
  {
   "cell_type": "code",
   "execution_count": 1,
   "metadata": {},
   "outputs": [
    {
     "name": "stdout",
     "output_type": "stream",
     "text": [
      "Hello\n",
      "World\n"
     ]
    }
   ],
   "source": [
    "print('Hello')\n",
    "print('World')"
   ]
  },
  {
   "cell_type": "code",
   "execution_count": 2,
   "metadata": {},
   "outputs": [
    {
     "name": "stdout",
     "output_type": "stream",
     "text": [
      "HelloWorld\n"
     ]
    }
   ],
   "source": [
    "print('Hello', end='')\n",
    "print('World')"
   ]
  },
  {
   "cell_type": "code",
   "execution_count": 3,
   "metadata": {},
   "outputs": [
    {
     "name": "stdout",
     "output_type": "stream",
     "text": [
      "cats dogs mice\n"
     ]
    }
   ],
   "source": [
    "print('cats', 'dogs', 'mice')"
   ]
  },
  {
   "cell_type": "code",
   "execution_count": 4,
   "metadata": {},
   "outputs": [
    {
     "name": "stdout",
     "output_type": "stream",
     "text": [
      "cats,dogs,mice\n"
     ]
    }
   ],
   "source": [
    "print('cats', 'dogs', 'mice', sep=',')"
   ]
  },
  {
   "attachments": {
    "image.png": {
     "image/png": "[encoded data removed]"
    }
   },
   "cell_type": "markdown",
   "metadata": {},
   "source": [
    "### The Call Stack, Scope, & Exception Handling\n",
    "\n",
    "\n",
    "#### The Call Stack Analogy \n",
    "\n",
    "![image.png](attachment:image.png)\n",
    "\n",
    "A meandering conversation that leads to talking about different people."
   ]
  },
  {
   "cell_type": "code",
   "execution_count": 6,
   "metadata": {},
   "outputs": [
    {
     "name": "stdout",
     "output_type": "stream",
     "text": [
      "a() starts\n",
      "b() starts\n",
      "c() starts\n",
      "c() returns\n",
      "b() returns\n",
      "d() starts\n",
      "d() returns\n",
      "a() returns\n"
     ]
    }
   ],
   "source": [
    "#What will the output look like?\n",
    "\n",
    "def a():\n",
    "    print('a() starts')\n",
    "    b()\n",
    "    d()\n",
    "    print('a() returns')\n",
    "\n",
    "def b():\n",
    "    print('b() starts')\n",
    "    c()\n",
    "    print('b() returns')\n",
    "\n",
    "def c():\n",
    "    print('c() starts')\n",
    "    print('c() returns')\n",
    "\n",
    "def d():\n",
    "    print('d() starts')\n",
    "    print('d() returns')\n",
    "\n",
    "a()"
   ]
  },
  {
   "attachments": {
    "image.png": {
     "image/png": "[encoded data removed]"
    }
   },
   "cell_type": "markdown",
   "metadata": {},
   "source": [
    "https://pythontutor.com/visualize.html#mode=display\n",
    "\n",
    "![image.png](attachment:image.png)"
   ]
  },
  {
   "cell_type": "markdown",
   "id": "679a15ff",
   "metadata": {},
   "source": [
    "#### Local and Global Scope\n",
    "- Parameters and variables that are assigned in a called function are said to exist in that function’s *local scope*. A variable that exists in a local scope is called a *local variable*\n",
    "- Variables that are assigned outside all functions are said to exist in the *global scope*. A variable that exists in a global scope is called a *global variable*\n",
    "- A variable must be one or the other; it cannot be both local and global."
   ]
  },
  {
   "cell_type": "code",
   "execution_count": 4,
   "id": "76f36dc8",
   "metadata": {},
   "outputs": [],
   "source": [
    "def birds():\n",
    "    turkey = \"local turkey\" # local variable\n",
    "chicken = \"global chicken\" # global variable\n",
    "# print (turkey)\n"
   ]
  },
  {
   "cell_type": "markdown",
   "id": "f48370e1",
   "metadata": {},
   "source": [
    "***\n",
    "Code in the global scope, outside of all functions, cannot use any local variables.\n",
    "***"
   ]
  },
  {
   "cell_type": "code",
   "execution_count": 45,
   "id": "f710c59d",
   "metadata": {},
   "outputs": [
    {
     "ename": "NameError",
     "evalue": "name 'turkey' is not defined",
     "output_type": "error",
     "traceback": [
      "\u001b[1;31m---------------------------------------------------------------------------\u001b[0m",
      "\u001b[1;31mNameError\u001b[0m                                 Traceback (most recent call last)",
      "\u001b[1;32mc:\\Users\\FZZN5B\\VS Code Projects\\python-course\\Chapter3&4.ipynb Cell 28\u001b[0m line \u001b[0;36m4\n\u001b[0;32m      <a href='vscode-notebook-cell:/c%3A/Users/FZZN5B/VS%20Code%20Projects/python-course/Chapter3%264.ipynb#X36sZmlsZQ%3D%3D?line=1'>2</a>\u001b[0m     turkey \u001b[39m=\u001b[39m \u001b[39m\"\u001b[39m\u001b[39mlocal turkey\u001b[39m\u001b[39m\"\u001b[39m\n\u001b[0;32m      <a href='vscode-notebook-cell:/c%3A/Users/FZZN5B/VS%20Code%20Projects/python-course/Chapter3%264.ipynb#X36sZmlsZQ%3D%3D?line=2'>3</a>\u001b[0m birds()\n\u001b[1;32m----> <a href='vscode-notebook-cell:/c%3A/Users/FZZN5B/VS%20Code%20Projects/python-course/Chapter3%264.ipynb#X36sZmlsZQ%3D%3D?line=3'>4</a>\u001b[0m \u001b[39mprint\u001b[39m(turkey) \u001b[39m# the global scope cannot use local variables\u001b[39;00m\n",
      "\u001b[1;31mNameError\u001b[0m: name 'turkey' is not defined"
     ]
    }
   ],
   "source": [
    "def birds():\n",
    "    turkey = \"local turkey\"\n",
    "birds()\n",
    "print(turkey) # the global scope cannot use local variables"
   ]
  },
  {
   "cell_type": "markdown",
   "id": "f4fa1316",
   "metadata": {},
   "source": [
    "***\n",
    "However, code in a local scope can access global variables.\n",
    "***"
   ]
  },
  {
   "cell_type": "code",
   "execution_count": 31,
   "id": "697a4f26",
   "metadata": {},
   "outputs": [
    {
     "name": "stdout",
     "output_type": "stream",
     "text": [
      "global chicken\n"
     ]
    }
   ],
   "source": [
    "def birds():\n",
    "    print (chicken)\n",
    "chicken = \"global chicken\" \n",
    "birds()\n"
   ]
  },
  {
   "cell_type": "markdown",
   "id": "1e0a23fe",
   "metadata": {},
   "source": [
    "***\n",
    "Code in a function’s local scope cannot use variables in any other local scope.\n",
    "***"
   ]
  },
  {
   "cell_type": "code",
   "execution_count": 33,
   "id": "238e5c85",
   "metadata": {},
   "outputs": [],
   "source": [
    "def reptiles():\n",
    "    lizard = \"local lizard\"\n",
    "reptiles()\n",
    "def birds():\n",
    "    print(lizard)"
   ]
  },
  {
   "cell_type": "markdown",
   "id": "dbb851f0",
   "metadata": {},
   "source": [
    "***\n",
    "You can use the same name for different variables if they are in different scopes.\n",
    "***"
   ]
  },
  {
   "cell_type": "code",
   "execution_count": 34,
   "id": "64752133",
   "metadata": {},
   "outputs": [
    {
     "name": "stdout",
     "output_type": "stream",
     "text": [
      "local chicken\n",
      "global chicken\n"
     ]
    }
   ],
   "source": [
    "def birds(): \n",
    "    chicken = \"local chicken\"\n",
    "    print (chicken)\n",
    "chicken = \"global chicken\"\n",
    "birds()\n",
    "print (chicken)"
   ]
  },
  {
   "cell_type": "markdown",
   "id": "b4ed6bf1",
   "metadata": {},
   "source": [
    "#### The `global` Statement\n",
    "- To modify a global variable within a function, use the `global` statement.\n",
    "- This tells Python to not create a new local variable and use the global variable instead."
   ]
  },
  {
   "cell_type": "code",
   "execution_count": 37,
   "id": "d34ef8cf",
   "metadata": {},
   "outputs": [
    {
     "name": "stdout",
     "output_type": "stream",
     "text": [
      "local chicken\n"
     ]
    }
   ],
   "source": [
    "def birds(): \n",
    "    global chicken\n",
    "    chicken = \"local chicken\"\n",
    "chicken = \"global chicken\"\n",
    "birds()\n",
    "print (chicken)"
   ]
  },
  {
   "cell_type": "code",
   "execution_count": 44,
   "id": "379ec305",
   "metadata": {},
   "outputs": [
    {
     "name": "stdout",
     "output_type": "stream",
     "text": [
      "spam\n"
     ]
    }
   ],
   "source": [
    "def spam():\n",
    "    global eggs\n",
    "    eggs = 'spam' # this is the global\n",
    "\n",
    "def bacon():\n",
    "    eggs = 'bacon' # this is a local\n",
    "\n",
    "def ham():\n",
    "    print(eggs) # this is the global\n",
    "\n",
    "eggs = 42 # this is the global\n",
    "spam()\n",
    "print(eggs)"
   ]
  },
  {
   "cell_type": "markdown",
   "id": "ee2fa380",
   "metadata": {},
   "source": [
    "<div class=\"alert alert-block alert-warning\">\n",
    "If you try to use a local variable in a function before you assign a value to it, as in the following program, Python will give you an error.\n",
    "</div>"
   ]
  },
  {
   "cell_type": "code",
   "execution_count": 47,
   "id": "c63c037b",
   "metadata": {},
   "outputs": [
    {
     "ename": "UnboundLocalError",
     "evalue": "local variable 'chicken' referenced before assignment",
     "output_type": "error",
     "traceback": [
      "\u001b[1;31m---------------------------------------------------------------------------\u001b[0m",
      "\u001b[1;31mUnboundLocalError\u001b[0m                         Traceback (most recent call last)",
      "\u001b[1;32mc:\\Users\\FZZN5B\\VS Code Projects\\python-course\\Chapter3&4.ipynb Cell 39\u001b[0m line \u001b[0;36m6\n\u001b[0;32m      <a href='vscode-notebook-cell:/c%3A/Users/FZZN5B/VS%20Code%20Projects/python-course/Chapter3%264.ipynb#X54sZmlsZQ%3D%3D?line=2'>3</a>\u001b[0m     chicken \u001b[39m=\u001b[39m \u001b[39m'\u001b[39m\u001b[39mlocal chicken\u001b[39m\u001b[39m'\u001b[39m\n\u001b[0;32m      <a href='vscode-notebook-cell:/c%3A/Users/FZZN5B/VS%20Code%20Projects/python-course/Chapter3%264.ipynb#X54sZmlsZQ%3D%3D?line=4'>5</a>\u001b[0m chicken \u001b[39m=\u001b[39m \u001b[39m'\u001b[39m\u001b[39mglobal chicken\u001b[39m\u001b[39m'\u001b[39m\n\u001b[1;32m----> <a href='vscode-notebook-cell:/c%3A/Users/FZZN5B/VS%20Code%20Projects/python-course/Chapter3%264.ipynb#X54sZmlsZQ%3D%3D?line=5'>6</a>\u001b[0m birds()\n",
      "\u001b[1;32mc:\\Users\\FZZN5B\\VS Code Projects\\python-course\\Chapter3&4.ipynb Cell 39\u001b[0m line \u001b[0;36m2\n\u001b[0;32m      <a href='vscode-notebook-cell:/c%3A/Users/FZZN5B/VS%20Code%20Projects/python-course/Chapter3%264.ipynb#X54sZmlsZQ%3D%3D?line=0'>1</a>\u001b[0m \u001b[39mdef\u001b[39;00m \u001b[39mbirds\u001b[39m():\n\u001b[1;32m----> <a href='vscode-notebook-cell:/c%3A/Users/FZZN5B/VS%20Code%20Projects/python-course/Chapter3%264.ipynb#X54sZmlsZQ%3D%3D?line=1'>2</a>\u001b[0m     \u001b[39mprint\u001b[39m(chicken) \u001b[39m# ERROR! 'chicken' is referenced before assignment\u001b[39;00m\n\u001b[0;32m      <a href='vscode-notebook-cell:/c%3A/Users/FZZN5B/VS%20Code%20Projects/python-course/Chapter3%264.ipynb#X54sZmlsZQ%3D%3D?line=2'>3</a>\u001b[0m     chicken \u001b[39m=\u001b[39m \u001b[39m'\u001b[39m\u001b[39mlocal chicken\u001b[39m\u001b[39m'\u001b[39m\n",
      "\u001b[1;31mUnboundLocalError\u001b[0m: local variable 'chicken' referenced before assignment"
     ]
    }
   ],
   "source": [
    "def birds():\n",
    "    print(chicken) # ERROR! 'chicken' is referenced before assignment\n",
    "    chicken = 'local chicken'\n",
    "\n",
    "chicken = 'global chicken'\n",
    "birds()"
   ]
  },
  {
   "cell_type": "markdown",
   "id": "9e51e589",
   "metadata": {},
   "source": [
    "#### What is a Black Box?\n",
    "- A function being a black box means that, from the outside, you interact with it by providing inputs and receiving outputs, without knowing or needing to understand how the function works."
   ]
  },
  {
   "cell_type": "markdown",
   "id": "3ff6fea0",
   "metadata": {},
   "source": [
    "#### Exception Handling \n",
    "- Right now, getting an error, or exception, in your Python program means the entire program will crash.\n",
    "- We want programs to detect errors, handle them, and them continue to run."
   ]
  },
  {
   "cell_type": "code",
   "execution_count": 1,
   "id": "2806d86f",
   "metadata": {},
   "outputs": [
    {
     "name": "stdout",
     "output_type": "stream",
     "text": [
      "21.0\n",
      "3.5\n"
     ]
    },
    {
     "ename": "ZeroDivisionError",
     "evalue": "division by zero",
     "output_type": "error",
     "traceback": [
      "\u001b[1;31m---------------------------------------------------------------------------\u001b[0m",
      "\u001b[1;31mZeroDivisionError\u001b[0m                         Traceback (most recent call last)",
      "\u001b[1;32mc:\\Users\\FZZN5B\\VS Code Projects\\python-course\\Chapter3&4.ipynb Cell 42\u001b[0m line \u001b[0;36m6\n\u001b[0;32m      <a href='vscode-notebook-cell:/c%3A/Users/FZZN5B/VS%20Code%20Projects/python-course/Chapter3%264.ipynb#X56sZmlsZQ%3D%3D?line=3'>4</a>\u001b[0m \u001b[39mprint\u001b[39m(spam(\u001b[39m2\u001b[39m))\n\u001b[0;32m      <a href='vscode-notebook-cell:/c%3A/Users/FZZN5B/VS%20Code%20Projects/python-course/Chapter3%264.ipynb#X56sZmlsZQ%3D%3D?line=4'>5</a>\u001b[0m \u001b[39mprint\u001b[39m(spam(\u001b[39m12\u001b[39m))\n\u001b[1;32m----> <a href='vscode-notebook-cell:/c%3A/Users/FZZN5B/VS%20Code%20Projects/python-course/Chapter3%264.ipynb#X56sZmlsZQ%3D%3D?line=5'>6</a>\u001b[0m \u001b[39mprint\u001b[39m(spam(\u001b[39m0\u001b[39;49m))\n\u001b[0;32m      <a href='vscode-notebook-cell:/c%3A/Users/FZZN5B/VS%20Code%20Projects/python-course/Chapter3%264.ipynb#X56sZmlsZQ%3D%3D?line=6'>7</a>\u001b[0m \u001b[39mprint\u001b[39m(spam(\u001b[39m1\u001b[39m))\n",
      "\u001b[1;32mc:\\Users\\FZZN5B\\VS Code Projects\\python-course\\Chapter3&4.ipynb Cell 42\u001b[0m line \u001b[0;36m2\n\u001b[0;32m      <a href='vscode-notebook-cell:/c%3A/Users/FZZN5B/VS%20Code%20Projects/python-course/Chapter3%264.ipynb#X56sZmlsZQ%3D%3D?line=0'>1</a>\u001b[0m \u001b[39mdef\u001b[39;00m \u001b[39mspam\u001b[39m(divideBy):\n\u001b[1;32m----> <a href='vscode-notebook-cell:/c%3A/Users/FZZN5B/VS%20Code%20Projects/python-course/Chapter3%264.ipynb#X56sZmlsZQ%3D%3D?line=1'>2</a>\u001b[0m     \u001b[39mreturn\u001b[39;00m \u001b[39m42\u001b[39;49m \u001b[39m/\u001b[39;49m divideBy\n",
      "\u001b[1;31mZeroDivisionError\u001b[0m: division by zero"
     ]
    }
   ],
   "source": [
    "def spam(divideBy):\n",
    "    return 42 / divideBy\n",
    "\n",
    "print(spam(2))\n",
    "print(spam(12))\n",
    "print(spam(0))\n",
    "print(spam(1))"
   ]
  },
  {
   "cell_type": "markdown",
   "id": "fcfcbe60",
   "metadata": {},
   "source": [
    "***\n",
    "Errors can be handled with try and except statements. The code that could potentially have an error is put in a `try` clause. The program execution moves to the start of a following `except` clause if an error happens.\n",
    "***"
   ]
  },
  {
   "cell_type": "code",
   "execution_count": 2,
   "id": "a6e6e244",
   "metadata": {},
   "outputs": [
    {
     "name": "stdout",
     "output_type": "stream",
     "text": [
      "21.0\n",
      "3.5\n",
      "Error: Invalid argument.\n",
      "None\n",
      "42.0\n"
     ]
    }
   ],
   "source": [
    "def spam(divideBy):\n",
    "    try:\n",
    "        return 42 / divideBy\n",
    "    except ZeroDivisionError: # immediately moves to the except clause\n",
    "        print('Error: Invalid argument.')\n",
    "\n",
    "print(spam(2))\n",
    "print(spam(12))\n",
    "print(spam(0))\n",
    "print(spam(1))"
   ]
  },
  {
   "cell_type": "code",
   "execution_count": 5,
   "id": "cd2591e7",
   "metadata": {},
   "outputs": [
    {
     "name": "stdout",
     "output_type": "stream",
     "text": [
      "********\n",
      " ********\n",
      "  ********\n",
      "   ********\n",
      "    ********\n",
      "     ********\n",
      "      ********\n",
      "       ********\n",
      "        ********\n",
      "         ********\n",
      "program stopped\n"
     ]
    }
   ],
   "source": [
    "import time\n",
    "indent = 0 # How many spaces to indent.\n",
    "indentIncreasing = True # Whether the indentation is increasing or not.\n",
    "\n",
    "try:\n",
    "    while True: # The main program loop.\n",
    "        print(' ' * indent, end='')\n",
    "        print('********')\n",
    "        time.sleep(0.1) # Pause for 1/10 of a second.\n",
    "\n",
    "        if indentIncreasing:\n",
    "            # Increase the number of spaces:\n",
    "            indent = indent + 1\n",
    "            if indent == 20:\n",
    "                # Change direction:\n",
    "                indentIncreasing = False\n",
    "\n",
    "        else:\n",
    "            # Decrease the number of spaces:\n",
    "            indent = indent - 1\n",
    "            if indent == 0:\n",
    "                # Change direction:\n",
    "                indentIncreasing = True\n",
    "except KeyboardInterrupt:\n",
    "    print(\"program stopped\")"
   ]
  },
  {
   "cell_type": "markdown",
   "id": "c51584b6",
   "metadata": {},
   "source": [
    "# Chapter 4: Lists\n",
    "- A list is a value that contains multiple values in an ordered sequence.\n",
    "- A list value looks like this: `['cat', 'bat', 'rat', 'elephant']`.\n",
    "- A list begins with an opening square bracket and ends with a closing square bracket, `[]`.\n",
    "- Values inside the list are also called items, and are separated by commas. "
   ]
  },
  {
   "cell_type": "code",
   "execution_count": 6,
   "id": "7e6fb3de",
   "metadata": {},
   "outputs": [
    {
     "data": {
      "text/plain": [
       "[1, 2, 3]"
      ]
     },
     "execution_count": 6,
     "metadata": {},
     "output_type": "execute_result"
    }
   ],
   "source": [
    "[1, 2, 3]"
   ]
  },
  {
   "cell_type": "code",
   "execution_count": 7,
   "id": "9b21141b",
   "metadata": {},
   "outputs": [
    {
     "data": {
      "text/plain": [
       "['cat', 'bat', 'rat', 'elephant']"
      ]
     },
     "execution_count": 7,
     "metadata": {},
     "output_type": "execute_result"
    }
   ],
   "source": [
    "['cat', 'bat', 'rat', 'elephant']"
   ]
  },
  {
   "cell_type": "code",
   "execution_count": 8,
   "id": "88ce2f18",
   "metadata": {},
   "outputs": [
    {
     "data": {
      "text/plain": [
       "['hello', 3.1415, True, None, 42]"
      ]
     },
     "execution_count": 8,
     "metadata": {},
     "output_type": "execute_result"
    }
   ],
   "source": [
    "['hello', 3.1415, True, None, 42]"
   ]
  },
  {
   "cell_type": "code",
   "execution_count": 11,
   "id": "e1d6e5ae",
   "metadata": {},
   "outputs": [
    {
     "data": {
      "text/plain": [
       "['cat', 'bat', 'rat', 'elephant']"
      ]
     },
     "execution_count": 11,
     "metadata": {},
     "output_type": "execute_result"
    }
   ],
   "source": [
    "spam = ['cat', 'bat', 'rat', 'elephant'] # spam is assigned one value, the list value. But the list value itself contains other values. \n",
    "spam"
   ]
  },
  {
   "cell_type": "markdown",
   "id": "77121147",
   "metadata": {},
   "source": [
    "#### Getting Individual Values in a List with Indexes\n",
    "<div class=\"alert alert-block alert-warning\">\n",
    "<b>The index of a list begins at 0</b> \n",
    "</div>\n",
    "\n",
    "![Alt text](image.png)\n",
    "\n",
    "Note that because the first index is 0, the last index is one less than the size of the list; a list of four items has 3 as its last index."
   ]
  },
  {
   "cell_type": "code",
   "execution_count": null,
   "id": "4e5c55af",
   "metadata": {},
   "outputs": [],
   "source": [
    "spam = ['cat', 'bat', 'rat', 'elephant']"
   ]
  },
  {
   "cell_type": "code",
   "execution_count": null,
   "id": "8a0099c8",
   "metadata": {},
   "outputs": [],
   "source": [
    "spam[0]"
   ]
  },
  {
   "cell_type": "code",
   "execution_count": null,
   "id": "e6eb5803",
   "metadata": {},
   "outputs": [],
   "source": [
    "spam[1]"
   ]
  },
  {
   "cell_type": "code",
   "execution_count": null,
   "id": "90a67261",
   "metadata": {},
   "outputs": [],
   "source": [
    "spam[2]"
   ]
  },
  {
   "cell_type": "code",
   "execution_count": null,
   "id": "c9d00d18",
   "metadata": {},
   "outputs": [],
   "source": [
    "spam[3]"
   ]
  },
  {
   "cell_type": "code",
   "execution_count": 12,
   "id": "dc36df70",
   "metadata": {},
   "outputs": [
    {
     "data": {
      "text/plain": [
       "'elephant'"
      ]
     },
     "execution_count": 12,
     "metadata": {},
     "output_type": "execute_result"
    }
   ],
   "source": [
    "['cat', 'bat', 'rat', 'elephant'][3]"
   ]
  },
  {
   "cell_type": "code",
   "execution_count": 13,
   "id": "ac178a53",
   "metadata": {},
   "outputs": [
    {
     "data": {
      "text/plain": [
       "'Hello, cat'"
      ]
     },
     "execution_count": 13,
     "metadata": {},
     "output_type": "execute_result"
    }
   ],
   "source": [
    "'Hello, ' + spam[0] # evaluates to 'Hello, ' + 'cat'"
   ]
  },
  {
   "cell_type": "code",
   "execution_count": 14,
   "id": "60691ad2",
   "metadata": {},
   "outputs": [
    {
     "data": {
      "text/plain": [
       "'The bat ate the cat.'"
      ]
     },
     "execution_count": 14,
     "metadata": {},
     "output_type": "execute_result"
    }
   ],
   "source": [
    "'The ' + spam[1] + ' ate the ' + spam[0] + '.'"
   ]
  },
  {
   "cell_type": "code",
   "execution_count": 16,
   "id": "f7316ceb",
   "metadata": {},
   "outputs": [
    {
     "ename": "IndexError",
     "evalue": "list index out of range",
     "output_type": "error",
     "traceback": [
      "\u001b[1;31m---------------------------------------------------------------------------\u001b[0m",
      "\u001b[1;31mIndexError\u001b[0m                                Traceback (most recent call last)",
      "\u001b[1;32mc:\\Users\\FZZN5B\\VS Code Projects\\python-course\\Chapter3&4.ipynb Cell 60\u001b[0m line \u001b[0;36m1\n\u001b[1;32m----> <a href='vscode-notebook-cell:/c%3A/Users/FZZN5B/VS%20Code%20Projects/python-course/Chapter3%264.ipynb#Y113sZmlsZQ%3D%3D?line=0'>1</a>\u001b[0m spam[\u001b[39m10000\u001b[39;49m] \u001b[39m# Python will give an IndexError if you use an index that exceeds the number of values in your list value.\u001b[39;00m\n",
      "\u001b[1;31mIndexError\u001b[0m: list index out of range"
     ]
    }
   ],
   "source": [
    "spam[10000] # Python will give an IndexError if you use an index that exceeds the number of values in your list value."
   ]
  },
  {
   "cell_type": "markdown",
   "id": "39ac8a9b",
   "metadata": {},
   "source": [
    "***\n",
    "The value of the index must not exceed the number of values in a list. Indexes can be only integer values, not floats.\n",
    "***"
   ]
  },
  {
   "cell_type": "code",
   "execution_count": 17,
   "id": "59e1c4e7",
   "metadata": {},
   "outputs": [
    {
     "data": {
      "text/plain": [
       "'bat'"
      ]
     },
     "execution_count": 17,
     "metadata": {},
     "output_type": "execute_result"
    }
   ],
   "source": [
    "spam[1]"
   ]
  },
  {
   "cell_type": "code",
   "execution_count": 18,
   "id": "0f627d43",
   "metadata": {},
   "outputs": [
    {
     "ename": "TypeError",
     "evalue": "list indices must be integers or slices, not float",
     "output_type": "error",
     "traceback": [
      "\u001b[1;31m---------------------------------------------------------------------------\u001b[0m",
      "\u001b[1;31mTypeError\u001b[0m                                 Traceback (most recent call last)",
      "\u001b[1;32mc:\\Users\\FZZN5B\\VS Code Projects\\python-course\\Chapter3&4.ipynb Cell 63\u001b[0m line \u001b[0;36m1\n\u001b[1;32m----> <a href='vscode-notebook-cell:/c%3A/Users/FZZN5B/VS%20Code%20Projects/python-course/Chapter3%264.ipynb#Y116sZmlsZQ%3D%3D?line=0'>1</a>\u001b[0m spam[\u001b[39m1.0\u001b[39;49m]\n",
      "\u001b[1;31mTypeError\u001b[0m: list indices must be integers or slices, not float"
     ]
    }
   ],
   "source": [
    "spam[1.0]"
   ]
  },
  {
   "cell_type": "markdown",
   "id": "c9f2e008",
   "metadata": {},
   "source": [
    "***\n",
    "Lists can also contain other list values. The values in these lists of lists can be accessed using multiple indexes.\n",
    "***"
   ]
  },
  {
   "cell_type": "code",
   "execution_count": 20,
   "id": "a4b52a78",
   "metadata": {},
   "outputs": [
    {
     "data": {
      "text/plain": [
       "['cat', 'bat']"
      ]
     },
     "execution_count": 20,
     "metadata": {},
     "output_type": "execute_result"
    }
   ],
   "source": [
    "spam = [['cat', 'bat'], [10, 20, 30, 40, 50]] # redefining spam\n",
    "spam[0]"
   ]
  },
  {
   "cell_type": "code",
   "execution_count": 21,
   "id": "34736894",
   "metadata": {},
   "outputs": [
    {
     "data": {
      "text/plain": [
       "'bat'"
      ]
     },
     "execution_count": 21,
     "metadata": {},
     "output_type": "execute_result"
    }
   ],
   "source": [
    "spam[0][1]"
   ]
  },
  {
   "cell_type": "code",
   "execution_count": 22,
   "id": "27f5e672",
   "metadata": {},
   "outputs": [
    {
     "data": {
      "text/plain": [
       "50"
      ]
     },
     "execution_count": 22,
     "metadata": {},
     "output_type": "execute_result"
    }
   ],
   "source": [
    "spam[1][4]"
   ]
  },
  {
   "cell_type": "markdown",
   "id": "2859f6c5",
   "metadata": {},
   "source": [
    "#### Negative Indexes\n",
    "- While indexes start at 0 and go up, you can also use negative integers for the index.\n",
    "- -1 refers to the last index in a list, the value -2 refers to the second-to-last index in a list, and so on."
   ]
  },
  {
   "cell_type": "code",
   "execution_count": 24,
   "id": "9a2e47d8",
   "metadata": {},
   "outputs": [
    {
     "data": {
      "text/plain": [
       "'elephant'"
      ]
     },
     "execution_count": 24,
     "metadata": {},
     "output_type": "execute_result"
    }
   ],
   "source": [
    "spam = ['cat', 'bat', 'rat', 'elephant']\n",
    "spam[-1]"
   ]
  },
  {
   "cell_type": "code",
   "execution_count": 25,
   "id": "dc85a9a0",
   "metadata": {},
   "outputs": [
    {
     "data": {
      "text/plain": [
       "'bat'"
      ]
     },
     "execution_count": 25,
     "metadata": {},
     "output_type": "execute_result"
    }
   ],
   "source": [
    "spam[-3]"
   ]
  },
  {
   "cell_type": "code",
   "execution_count": 26,
   "id": "c80d502d",
   "metadata": {},
   "outputs": [
    {
     "data": {
      "text/plain": [
       "'The elephant is afraid of the bat.'"
      ]
     },
     "execution_count": 26,
     "metadata": {},
     "output_type": "execute_result"
    }
   ],
   "source": [
    "'The ' + spam[-1] + ' is afraid of the ' + spam[-3] + '.'"
   ]
  },
  {
   "cell_type": "markdown",
   "id": "1ffa4d48",
   "metadata": {},
   "source": [
    "#### Getting a List from Another List with Slices\n",
    "- A slice can get several values from a list, in the form of a new list. \n",
    "- A slice is typed between square brackets, like an index, but it has two integers separated by a colon. ( Example: spam[1:2] )\n",
    "- The first integer is where the slice starts, the second integer is where the slice ends. \n",
    "- __A slice will not include the value at the second index__"
   ]
  },
  {
   "cell_type": "code",
   "execution_count": 27,
   "id": "ae3ad231",
   "metadata": {},
   "outputs": [
    {
     "data": {
      "text/plain": [
       "['cat', 'bat', 'rat', 'elephant']"
      ]
     },
     "execution_count": 27,
     "metadata": {},
     "output_type": "execute_result"
    }
   ],
   "source": [
    "spam = ['cat', 'bat', 'rat', 'elephant']\n",
    "spam[0:4]"
   ]
  },
  {
   "cell_type": "code",
   "execution_count": 28,
   "id": "38fcf1cf",
   "metadata": {},
   "outputs": [
    {
     "data": {
      "text/plain": [
       "['bat', 'rat']"
      ]
     },
     "execution_count": 28,
     "metadata": {},
     "output_type": "execute_result"
    }
   ],
   "source": [
    "spam[1:3]"
   ]
  },
  {
   "cell_type": "code",
   "execution_count": 29,
   "id": "6a498c79",
   "metadata": {},
   "outputs": [
    {
     "data": {
      "text/plain": [
       "['cat', 'bat', 'rat']"
      ]
     },
     "execution_count": 29,
     "metadata": {},
     "output_type": "execute_result"
    }
   ],
   "source": [
    "spam[0:-1]"
   ]
  },
  {
   "cell_type": "markdown",
   "id": "3f3c59d1",
   "metadata": {},
   "source": [
    "<div class=\"alert alert-block alert-info\">\n",
    "<b>Shortcuts:</b> You can leave out one or both of the indexes on either side of the colon in the slice. \n",
    "\n",
    "Leaving out the first index is the same as using 0, or the beginning of the list.\n",
    "\n",
    "Leaving out the second index is the same as using the length of the list.\n",
    "\n",
    "</div>"
   ]
  },
  {
   "cell_type": "code",
   "execution_count": 30,
   "id": "5d778ed6",
   "metadata": {},
   "outputs": [
    {
     "data": {
      "text/plain": [
       "['cat', 'bat']"
      ]
     },
     "execution_count": 30,
     "metadata": {},
     "output_type": "execute_result"
    }
   ],
   "source": [
    "spam = ['cat', 'bat', 'rat', 'elephant']\n",
    "spam[:2]"
   ]
  },
  {
   "cell_type": "code",
   "execution_count": 31,
   "id": "68965436",
   "metadata": {},
   "outputs": [
    {
     "data": {
      "text/plain": [
       "['bat', 'rat', 'elephant']"
      ]
     },
     "execution_count": 31,
     "metadata": {},
     "output_type": "execute_result"
    }
   ],
   "source": [
    "spam[1:]"
   ]
  },
  {
   "cell_type": "code",
   "execution_count": 32,
   "id": "740e0456",
   "metadata": {},
   "outputs": [
    {
     "data": {
      "text/plain": [
       "['cat', 'bat', 'rat', 'elephant']"
      ]
     },
     "execution_count": 32,
     "metadata": {},
     "output_type": "execute_result"
    }
   ],
   "source": [
    "spam[:]"
   ]
  },
  {
   "cell_type": "markdown",
   "id": "4524a3ca",
   "metadata": {},
   "source": [
    "#### Getting a List’s Length with the len() Function\n",
    "- The len() function will return the number of values that are in a list value passed to it."
   ]
  },
  {
   "cell_type": "code",
   "execution_count": 33,
   "id": "9c3c965a",
   "metadata": {},
   "outputs": [
    {
     "data": {
      "text/plain": [
       "3"
      ]
     },
     "execution_count": 33,
     "metadata": {},
     "output_type": "execute_result"
    }
   ],
   "source": [
    "spam = ['cat', 'dog', 'moose']\n",
    "len(spam)"
   ]
  },
  {
   "cell_type": "code",
   "execution_count": 34,
   "id": "3576f4cf",
   "metadata": {},
   "outputs": [
    {
     "data": {
      "text/plain": [
       "0"
      ]
     },
     "execution_count": 34,
     "metadata": {},
     "output_type": "execute_result"
    }
   ],
   "source": [
    "spam = []\n",
    "len(spam)"
   ]
  },
  {
   "cell_type": "markdown",
   "id": "1d31d442",
   "metadata": {},
   "source": [
    "#### Changing Values in a List with Indexes"
   ]
  },
  {
   "cell_type": "code",
   "execution_count": 37,
   "id": "7eaecec4",
   "metadata": {},
   "outputs": [
    {
     "data": {
      "text/plain": [
       "'bat'"
      ]
     },
     "execution_count": 37,
     "metadata": {},
     "output_type": "execute_result"
    }
   ],
   "source": [
    "spam = ['cat', 'bat', 'rat', 'elephant']\n",
    "spam[1]"
   ]
  },
  {
   "cell_type": "code",
   "execution_count": 38,
   "id": "e27a97e3",
   "metadata": {},
   "outputs": [
    {
     "data": {
      "text/plain": [
       "['cat', 'aardvark', 'rat', 'elephant']"
      ]
     },
     "execution_count": 38,
     "metadata": {},
     "output_type": "execute_result"
    }
   ],
   "source": [
    "spam[1] = 'aardvark'\n",
    "spam"
   ]
  },
  {
   "cell_type": "code",
   "execution_count": 39,
   "id": "5922da02",
   "metadata": {},
   "outputs": [
    {
     "data": {
      "text/plain": [
       "['cat', 'aardvark', 'aardvark', 'elephant']"
      ]
     },
     "execution_count": 39,
     "metadata": {},
     "output_type": "execute_result"
    }
   ],
   "source": [
    "spam[2] = spam[1]\n",
    "spam"
   ]
  },
  {
   "cell_type": "code",
   "execution_count": 40,
   "id": "8e5d02dd",
   "metadata": {},
   "outputs": [
    {
     "data": {
      "text/plain": [
       "['cat', 'aardvark', 'aardvark', 12345]"
      ]
     },
     "execution_count": 40,
     "metadata": {},
     "output_type": "execute_result"
    }
   ],
   "source": [
    "spam[-1] = 12345\n",
    "spam"
   ]
  },
  {
   "cell_type": "markdown",
   "id": "7079e10c",
   "metadata": {},
   "source": [
    "#### List Concatenation and List Replication"
   ]
  },
  {
   "cell_type": "code",
   "execution_count": 44,
   "id": "1204d08e",
   "metadata": {},
   "outputs": [
    {
     "data": {
      "text/plain": [
       "[1, 2, 3, 'A', 'B', 'C']"
      ]
     },
     "execution_count": 44,
     "metadata": {},
     "output_type": "execute_result"
    }
   ],
   "source": [
    "[1, 2, 3] + ['A', 'B', 'C']"
   ]
  },
  {
   "cell_type": "code",
   "execution_count": 45,
   "id": "002df791",
   "metadata": {},
   "outputs": [
    {
     "data": {
      "text/plain": [
       "['X', 'Y', 'Z', 'X', 'Y', 'Z', 'X', 'Y', 'Z']"
      ]
     },
     "execution_count": 45,
     "metadata": {},
     "output_type": "execute_result"
    }
   ],
   "source": [
    "['X', 'Y', 'Z'] * 3"
   ]
  },
  {
   "cell_type": "code",
   "execution_count": 46,
   "id": "f7105584",
   "metadata": {},
   "outputs": [
    {
     "data": {
      "text/plain": [
       "[1, 2, 3, 'A', 'B', 'C']"
      ]
     },
     "execution_count": 46,
     "metadata": {},
     "output_type": "execute_result"
    }
   ],
   "source": [
    "spam = [1, 2, 3]\n",
    "spam = spam + ['A', 'B', 'C']\n",
    "spam"
   ]
  },
  {
   "cell_type": "markdown",
   "id": "751f9726",
   "metadata": {},
   "source": [
    "#### Removing Values from Lists with del Statements\n"
   ]
  },
  {
   "cell_type": "code",
   "execution_count": 47,
   "id": "caf31202",
   "metadata": {},
   "outputs": [
    {
     "data": {
      "text/plain": [
       "['cat', 'bat', 'elephant']"
      ]
     },
     "execution_count": 47,
     "metadata": {},
     "output_type": "execute_result"
    }
   ],
   "source": [
    "spam = ['cat', 'bat', 'rat', 'elephant']\n",
    "del spam[2]\n",
    "spam"
   ]
  },
  {
   "cell_type": "code",
   "execution_count": 48,
   "id": "5bf7436f",
   "metadata": {},
   "outputs": [
    {
     "data": {
      "text/plain": [
       "['cat', 'bat']"
      ]
     },
     "execution_count": 48,
     "metadata": {},
     "output_type": "execute_result"
    }
   ],
   "source": [
    "del spam[2] # 2 is now the last index\n",
    "spam"
   ]
  },
  {
   "cell_type": "code",
   "execution_count": 49,
   "id": "e08e82e0",
   "metadata": {},
   "outputs": [
    {
     "name": "stdout",
     "output_type": "stream",
     "text": [
      "Enter the name of cat 1:\n",
      "Enter the name of cat 2:\n",
      "Enter the name of cat 3:\n",
      "Enter the name of cat 4:\n",
      "Enter the name of cat 5:\n",
      "Enter the name of cat 6:\n",
      "The cat names are:\n",
      "a bb ccc dddd eeee fffff\n"
     ]
    }
   ],
   "source": [
    "print('Enter the name of cat 1:')\n",
    "catName1 = input()\n",
    "print('Enter the name of cat 2:')\n",
    "catName2 = input()\n",
    "print('Enter the name of cat 3:')\n",
    "catName3 = input()\n",
    "print('Enter the name of cat 4:')\n",
    "catName4 = input()\n",
    "print('Enter the name of cat 5:')\n",
    "catName5 = input()\n",
    "print('Enter the name of cat 6:')\n",
    "catName6 = input()\n",
    "print('The cat names are:')\n",
    "print(catName1 + ' ' + catName2 + ' ' + catName3 + ' ' + catName4 + ' ' +\n",
    "catName5 + ' ' + catName6)"
   ]
  },
  {
   "cell_type": "code",
   "execution_count": 50,
   "id": "4dfda715",
   "metadata": {},
   "outputs": [
    {
     "name": "stdout",
     "output_type": "stream",
     "text": [
      "Enter the name of cat 1 (Or enter nothing to stop.):\n",
      "Enter the name of cat 2 (Or enter nothing to stop.):\n",
      "Enter the name of cat 3 (Or enter nothing to stop.):\n",
      "Enter the name of cat 4 (Or enter nothing to stop.):\n",
      "Enter the name of cat 5 (Or enter nothing to stop.):\n",
      "Enter the name of cat 6 (Or enter nothing to stop.):\n",
      "Enter the name of cat 7 (Or enter nothing to stop.):\n",
      "Enter the name of cat 8 (Or enter nothing to stop.):\n",
      "Enter the name of cat 9 (Or enter nothing to stop.):\n",
      "Enter the name of cat 10 (Or enter nothing to stop.):\n",
      "The cat names are:\n",
      "  a\n",
      "  bbbbb\n",
      "  ccccccca\n",
      "  afwfaw\n",
      "  aawff\n",
      "  aafaf\n",
      "  ffff\n",
      "  ffawfwa\n",
      "  fawfawfawfawfawfasff\n"
     ]
    }
   ],
   "source": [
    "catNames = []\n",
    "while True:\n",
    "    print('Enter the name of cat ' + str(len(catNames) + 1) +\n",
    "      ' (Or enter nothing to stop.):')\n",
    "    name = input()\n",
    "    if name == '':\n",
    "        break\n",
    "    catNames = catNames + [name]  # list concatenation\n",
    "print('The cat names are:')\n",
    "for name in catNames:\n",
    "    print('  ' + name)"
   ]
  },
  {
   "cell_type": "code",
   "execution_count": 51,
   "id": "465e9be5",
   "metadata": {},
   "outputs": [
    {
     "name": "stdout",
     "output_type": "stream",
     "text": [
      "0\n",
      "1\n",
      "2\n",
      "3\n"
     ]
    }
   ],
   "source": [
    "for i in range(4):\n",
    "    print(i)"
   ]
  },
  {
   "cell_type": "code",
   "execution_count": 52,
   "id": "f10e2bfc",
   "metadata": {},
   "outputs": [
    {
     "name": "stdout",
     "output_type": "stream",
     "text": [
      "0\n",
      "1\n",
      "2\n",
      "3\n"
     ]
    }
   ],
   "source": [
    "for i in [0, 1, 2, 3]:\n",
    "    print(i)"
   ]
  },
  {
   "cell_type": "code",
   "execution_count": 53,
   "id": "dce912b9",
   "metadata": {},
   "outputs": [
    {
     "name": "stdout",
     "output_type": "stream",
     "text": [
      "a\n",
      "b\n",
      "c\n",
      "d\n"
     ]
    }
   ],
   "source": [
    "for i in ['a', 'b', 'c', 'd']:\n",
    "    print(i)"
   ]
  },
  {
   "cell_type": "code",
   "execution_count": 54,
   "id": "fe455562",
   "metadata": {},
   "outputs": [
    {
     "name": "stdout",
     "output_type": "stream",
     "text": [
      "Index 0 in supplies is: pens\n",
      "Index 1 in supplies is: staplers\n",
      "Index 2 in supplies is: flamethrowers\n",
      "Index 3 in supplies is: binders\n"
     ]
    }
   ],
   "source": [
    "supplies = ['pens', 'staplers', 'flamethrowers', 'binders']\n",
    "for i in range(len(supplies)):\n",
    "    print('Index ' + str(i) + ' in supplies is: ' + supplies[i])"
   ]
  },
  {
   "cell_type": "markdown",
   "id": "b0d12ee6",
   "metadata": {},
   "source": [
    "#### The `in` and `not` in Operators\n",
    "- You can determine whether a value is or isn’t in a list with the in and not in operators."
   ]
  },
  {
   "cell_type": "code",
   "execution_count": 55,
   "id": "3f9cb729",
   "metadata": {},
   "outputs": [
    {
     "data": {
      "text/plain": [
       "True"
      ]
     },
     "execution_count": 55,
     "metadata": {},
     "output_type": "execute_result"
    }
   ],
   "source": [
    "'howdy' in ['hello', 'hi', 'howdy', 'heyas']"
   ]
  },
  {
   "cell_type": "code",
   "execution_count": 56,
   "id": "c512cfcc",
   "metadata": {},
   "outputs": [
    {
     "data": {
      "text/plain": [
       "False"
      ]
     },
     "execution_count": 56,
     "metadata": {},
     "output_type": "execute_result"
    }
   ],
   "source": [
    "spam = ['hello', 'hi', 'howdy', 'heyas']\n",
    "'cat' in spam"
   ]
  },
  {
   "cell_type": "code",
   "execution_count": 59,
   "id": "40f92d28",
   "metadata": {},
   "outputs": [
    {
     "data": {
      "text/plain": [
       "False"
      ]
     },
     "execution_count": 59,
     "metadata": {},
     "output_type": "execute_result"
    }
   ],
   "source": [
    "'howdy' not in ['hello', 'hi', 'howdy', 'heyas']"
   ]
  },
  {
   "cell_type": "code",
   "execution_count": 60,
   "id": "049226d5",
   "metadata": {},
   "outputs": [
    {
     "data": {
      "text/plain": [
       "True"
      ]
     },
     "execution_count": 60,
     "metadata": {},
     "output_type": "execute_result"
    }
   ],
   "source": [
    "'cat' not in ['hello', 'hi', 'howdy', 'heyas']"
   ]
  },
  {
   "cell_type": "code",
   "execution_count": 61,
   "id": "7c1e9355",
   "metadata": {},
   "outputs": [
    {
     "name": "stdout",
     "output_type": "stream",
     "text": [
      "Enter a pet name:\n",
      "I do not have a pet named jimmy\n"
     ]
    }
   ],
   "source": [
    "myPets = ['Zophie', 'Pooka', 'Fat-tail']\n",
    "print('Enter a pet name:')\n",
    "name = input()\n",
    "if name not in myPets:\n",
    "    print('I do not have a pet named ' + name)\n",
    "else:\n",
    "    print(name + ' is my pet.')"
   ]
  },
  {
   "cell_type": "markdown",
   "id": "ae6c0da5",
   "metadata": {},
   "source": [
    "<div class=\"alert alert-block alert-info\">\n",
    "<b>Shortcuts: The Multiple Assignment Trick (tuple unpacking)</b> \n",
    "\n",
    "</div>"
   ]
  },
  {
   "cell_type": "code",
   "execution_count": 62,
   "id": "ba8079e6",
   "metadata": {},
   "outputs": [],
   "source": [
    "cat = ['fat', 'gray', 'loud']\n",
    "size = cat[0]\n",
    "color = cat[1]\n",
    "disposition = cat[2]"
   ]
  },
  {
   "cell_type": "code",
   "execution_count": 64,
   "id": "d5981585",
   "metadata": {},
   "outputs": [
    {
     "name": "stdout",
     "output_type": "stream",
     "text": [
      "fat gray loud\n"
     ]
    }
   ],
   "source": [
    "cat = ['fat', 'gray', 'loud']\n",
    "size, color, disposition = cat\n",
    "\n",
    "print(size, color, disposition)"
   ]
  },
  {
   "cell_type": "code",
   "execution_count": 65,
   "id": "39e2b423",
   "metadata": {},
   "outputs": [
    {
     "ename": "ValueError",
     "evalue": "not enough values to unpack (expected 4, got 3)",
     "output_type": "error",
     "traceback": [
      "\u001b[1;31m---------------------------------------------------------------------------\u001b[0m",
      "\u001b[1;31mValueError\u001b[0m                                Traceback (most recent call last)",
      "\u001b[1;32mc:\\Users\\FZZN5B\\VS Code Projects\\python-course\\Chapter3&4.ipynb Cell 110\u001b[0m line \u001b[0;36m3\n\u001b[0;32m      <a href='vscode-notebook-cell:/c%3A/Users/FZZN5B/VS%20Code%20Projects/python-course/Chapter3%264.ipynb#Y221sZmlsZQ%3D%3D?line=0'>1</a>\u001b[0m \u001b[39m# The number of variables and the length of the list must be exactly equal\u001b[39;00m\n\u001b[0;32m      <a href='vscode-notebook-cell:/c%3A/Users/FZZN5B/VS%20Code%20Projects/python-course/Chapter3%264.ipynb#Y221sZmlsZQ%3D%3D?line=1'>2</a>\u001b[0m cat \u001b[39m=\u001b[39m [\u001b[39m'\u001b[39m\u001b[39mfat\u001b[39m\u001b[39m'\u001b[39m, \u001b[39m'\u001b[39m\u001b[39mgray\u001b[39m\u001b[39m'\u001b[39m, \u001b[39m'\u001b[39m\u001b[39mloud\u001b[39m\u001b[39m'\u001b[39m]\n\u001b[1;32m----> <a href='vscode-notebook-cell:/c%3A/Users/FZZN5B/VS%20Code%20Projects/python-course/Chapter3%264.ipynb#Y221sZmlsZQ%3D%3D?line=2'>3</a>\u001b[0m size, color, disposition, name \u001b[39m=\u001b[39m cat\n",
      "\u001b[1;31mValueError\u001b[0m: not enough values to unpack (expected 4, got 3)"
     ]
    }
   ],
   "source": [
    "# The number of variables and the length of the list must be exactly equal\n",
    "cat = ['fat', 'gray', 'loud']\n",
    "size, color, disposition, name = cat\n"
   ]
  },
  {
   "cell_type": "markdown",
   "id": "1fea5e02",
   "metadata": {},
   "source": [
    "#### Using the enumerate() Function with Lists\n",
    "- Instead of using the `range(len(someList))` technique with a for loop to obtain the integer index of the items in the list, you can call the enumerate() function instead"
   ]
  },
  {
   "cell_type": "code",
   "execution_count": 70,
   "id": "d85ec11d",
   "metadata": {},
   "outputs": [
    {
     "name": "stdout",
     "output_type": "stream",
     "text": [
      "Index 0 in supplies is: pens\n",
      "Index 1 in supplies is: staplers\n",
      "Index 2 in supplies is: flamethrowers\n",
      "Index 3 in supplies is: binders\n"
     ]
    }
   ],
   "source": [
    "supplies = ['pens', 'staplers', 'flamethrowers', 'binders']\n",
    "for index, item in enumerate(supplies): # the index comes first\n",
    "    print('Index ' + str(index) + ' in supplies is: ' + item)"
   ]
  },
  {
   "cell_type": "markdown",
   "id": "721a0a92",
   "metadata": {},
   "source": [
    "### Methods\n",
    "- A method is the same thing as a function, except it is “called on” a value. \n",
    "- Each data type has its own set of methods."
   ]
  },
  {
   "cell_type": "code",
   "execution_count": 71,
   "id": "946295f3",
   "metadata": {},
   "outputs": [
    {
     "data": {
      "text/plain": [
       "0"
      ]
     },
     "execution_count": 71,
     "metadata": {},
     "output_type": "execute_result"
    }
   ],
   "source": [
    "spam = ['hello', 'hi', 'howdy', 'heyas']\n",
    "# List values have an index() method that can be passed a value, and if that value exists in the list, the index of the value is returned.\n",
    "spam.index('hello')"
   ]
  },
  {
   "cell_type": "code",
   "execution_count": 72,
   "id": "8e0c08b2",
   "metadata": {},
   "outputs": [
    {
     "data": {
      "text/plain": [
       "3"
      ]
     },
     "execution_count": 72,
     "metadata": {},
     "output_type": "execute_result"
    }
   ],
   "source": [
    "spam.index('heyas')"
   ]
  },
  {
   "cell_type": "code",
   "execution_count": 73,
   "id": "e6080db6",
   "metadata": {},
   "outputs": [
    {
     "ename": "ValueError",
     "evalue": "'howdy howdy howdy' is not in list",
     "output_type": "error",
     "traceback": [
      "\u001b[1;31m---------------------------------------------------------------------------\u001b[0m",
      "\u001b[1;31mValueError\u001b[0m                                Traceback (most recent call last)",
      "\u001b[1;32mc:\\Users\\FZZN5B\\VS Code Projects\\python-course\\Chapter3&4.ipynb Cell 116\u001b[0m line \u001b[0;36m1\n\u001b[1;32m----> <a href='vscode-notebook-cell:/c%3A/Users/FZZN5B/VS%20Code%20Projects/python-course/Chapter3%264.ipynb#Y231sZmlsZQ%3D%3D?line=0'>1</a>\u001b[0m spam\u001b[39m.\u001b[39;49mindex(\u001b[39m'\u001b[39;49m\u001b[39mhowdy howdy howdy\u001b[39;49m\u001b[39m'\u001b[39;49m)\n",
      "\u001b[1;31mValueError\u001b[0m: 'howdy howdy howdy' is not in list"
     ]
    }
   ],
   "source": [
    "spam.index('howdy howdy howdy')"
   ]
  },
  {
   "cell_type": "code",
   "execution_count": 74,
   "id": "fbb9af8c",
   "metadata": {},
   "outputs": [
    {
     "data": {
      "text/plain": [
       "1"
      ]
     },
     "execution_count": 74,
     "metadata": {},
     "output_type": "execute_result"
    }
   ],
   "source": [
    "spam = ['Zophie', 'Pooka', 'Fat-tail', 'Pooka']\n",
    "spam.index('Pooka') # When there are duplicates of the value in the list, the index of its first appearance is returned."
   ]
  }
 ],
 "metadata": {
  "kernelspec": {
   "display_name": "Python - Spark 3.0.1",
   "language": "python",
   "name": "python3"
  },
  "language_info": {
   "codemirror_mode": {
    "name": "ipython",
    "version": 3
   },
   "file_extension": ".py",
   "mimetype": "text/x-python",
   "name": "python",
   "nbconvert_exporter": "python",
   "pygments_lexer": "ipython3",
   "version": "3.10.6"
  }
 },
 "nbformat": 4,
 "nbformat_minor": 5
}
